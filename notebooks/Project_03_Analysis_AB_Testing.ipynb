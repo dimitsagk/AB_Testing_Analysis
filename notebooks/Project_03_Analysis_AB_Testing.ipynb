{
 "cells": [
  {
   "cell_type": "markdown",
   "id": "040f3745-ba62-4ec1-989e-56dbe29821c9",
   "metadata": {},
   "source": [
    "**Goals for this Notebook:**\n",
    "\n",
    "Having conducted an initial analysis, I have gained a comprehensive understanding of the dataset, including valuable insights into the main customer segments and the overall data structure.\n",
    "\n",
    "In this notebook, I will focus on analyzing the results of our A/B testing. The process is structured as follows:\n",
    "\n",
    "**Chapter 00: Files preparation**\n",
    "- Ensure all necessary files are correctly prepared and loaded for the analysis.\n",
    "  \n",
    "**Chapter 01: Defining the Metrics Base**\n",
    "  - Define the criteria for a valid session, which involves setting specific rules to accurately capture user visits to the website.\n",
    "  - Define the rest of the metrics for the data: steps back, total steps etc."
   ]
  },
  {
   "cell_type": "markdown",
   "id": "4a5f714b-93aa-4d96-ae67-f153643255fd",
   "metadata": {},
   "source": [
    "# 00. Files preparation"
   ]
  },
  {
   "cell_type": "markdown",
   "id": "dfec3f57-62f6-4f55-a2d3-3207f9f57c39",
   "metadata": {},
   "source": [
    "## Importing libraries"
   ]
  },
  {
   "cell_type": "code",
   "execution_count": 1,
   "id": "38c8738f-d997-4d41-88fc-9e77fc6cfa14",
   "metadata": {},
   "outputs": [],
   "source": [
    "import pandas as pd\n",
    "import matplotlib.pyplot as plt\n",
    "import matplotlib.patches as mpatches # used for the legend at step duration\n",
    "import seaborn as sns\n",
    "import numpy as np\n",
    "import datetime\n",
    "import scipy.stats as st\n",
    "from scipy.stats import chi2_contingency\n",
    "from scipy.stats.contingency import association\n",
    "from scipy.stats import norm\n",
    "import scipy.stats as stats\n",
    "\n",
    "from functions import cleaning \n",
    "\n",
    "from functools import reduce"
   ]
  },
  {
   "cell_type": "code",
   "execution_count": 2,
   "id": "1d8f7193-997f-4df7-a0df-26f1e30b5a60",
   "metadata": {},
   "outputs": [],
   "source": [
    "# Disabling a specific type of warning from Jupyter, that I know if mistaken for something else\n",
    "pd.options.mode.chained_assignment = None "
   ]
  },
  {
   "cell_type": "markdown",
   "id": "bcf307d6-bc23-47f1-9410-1ed6f3068d51",
   "metadata": {},
   "source": [
    "## Loading dataset"
   ]
  },
  {
   "cell_type": "markdown",
   "id": "ffde2577-2cfc-4a5a-9d97-bdef19368291",
   "metadata": {},
   "source": [
    "Datasets provided by Ironhack."
   ]
  },
  {
   "cell_type": "code",
   "execution_count": 3,
   "id": "76486e4d-0e18-4dc5-a7a3-6a7b5ac78f7f",
   "metadata": {},
   "outputs": [],
   "source": [
    "filepath1 = '../Data/df_final_demo.txt' # Client Profiles\n",
    "filepath2 = '../Data/df_final_web_data_pt_1.txt' # Digital Footprints, part 1\n",
    "filepath3 = '../Data/df_final_web_data_pt_2.txt' # Digital Footprints, part 2\n",
    "filepath4 = '../Data/df_final_experiment_clients.txt' # Experiment Roster \n",
    "\n",
    "# Loading datasets\n",
    "df_clients = pd.read_csv(filepath1)\n",
    "df2 = pd.read_csv(filepath2)\n",
    "df3 = pd.read_csv(filepath3)\n",
    "df_roster = pd.read_csv(filepath4)\n",
    "\n",
    "# Merging part 1 and 2 of Digital Footprints\n",
    "df_trace = pd.concat([df2, df3], axis=0, ignore_index=True)"
   ]
  },
  {
   "cell_type": "markdown",
   "id": "c8bd5ef7-8ce0-4206-a521-0f015436f47d",
   "metadata": {},
   "source": [
    "## Data cleaning"
   ]
  },
  {
   "cell_type": "code",
   "execution_count": 4,
   "id": "f67b1e4b-f644-402d-8aa4-79db600f407b",
   "metadata": {},
   "outputs": [],
   "source": [
    "# Calling the cleaning function I created at the functions.py file\n",
    "df_clients, df_trace, df_roster, _ = cleaning(df_clients, df_trace, df_roster)"
   ]
  },
  {
   "cell_type": "markdown",
   "id": "2677295f-a0ba-47ed-997c-b5dad27cc9e2",
   "metadata": {},
   "source": [
    "# 01. Defining the Metrics Base"
   ]
  },
  {
   "cell_type": "markdown",
   "id": "9c6830fc-4db7-475f-a5cf-c16797c92ade",
   "metadata": {},
   "source": [
    "After inspecting the data, I noticed some inconsistencies and possible errors in the **visit_id**. This is important because for the A/B testing analysis, I need to accurately determine how many clients complete the process and compare the two groups (test and control).\n",
    "\n",
    "Specifically, I observed that for the same client, the visit_id sometimes changed even when there were only a few seconds between steps (likely due to page refreshes). Conversely, the same visit_id sometimes spanned steps that were days apart.\n",
    "\n",
    "In a real-life scenario, I would consult the IT team to understand the criteria for assigning visit_id and decide whether it can be trusted. Additionally, I would align this with the business goals, considering the user session duration that the business aims to achieve.\n",
    "\n",
    "**Since this project uses a public dataset, I will define my own rules for what constitutes a valid session.** To do this, I will:\n",
    "1. **Calculate Time Between Steps:** Calculate the time between successful steps (steps that move forward, not backward).\n",
    "2. **Identify Outliers:** Use statistical methods to identify outliers in the time between steps.\n",
    "3. **Prepare the Files:** Add necessary columns and prepare the data to facilitate the definition of valid sessions.\n",
    "4. **Define Valid Sessions:** Based on the findings, establish rules to define what constitutes a valid session.\n",
    "5. **Define Session Metrics:** Preparing the data to measure more metrics like steps back, total step count etc."
   ]
  },
  {
   "cell_type": "markdown",
   "id": "b81118f5-621e-4573-8f56-601ea6e758a4",
   "metadata": {},
   "source": [
    "## Calculate time between moving forward steps"
   ]
  },
  {
   "cell_type": "code",
   "execution_count": 5,
   "id": "f73de332-7edf-49ea-b529-d156c69d0549",
   "metadata": {},
   "outputs": [],
   "source": [
    "# will use all the data for that (both from test and control group)\n",
    "# making a copy to not change the original dataframe\n",
    "df_step_time = df_trace.copy()\n",
    "\n",
    "# Changing step names, sorting dataframe and resseting index, to help with the analysis below\n",
    "df_step_time['process_step'] = df_step_time['process_step'].map({'start':1,'step_1':2,'step_2':3,'step_3':4,'confirm':5})\n",
    "df_step_time.sort_values(by=['visit_id','date_time'], ascending=False, inplace=True)\n",
    "df_step_time = df_step_time.reset_index(drop=True)\n",
    "\n",
    "# Adding new columns with previous visit_id, previous process step and previous time, to help with the analysis below\n",
    "df_step_time['prev_visit_id'] = df_step_time['visit_id'].shift(-1, fill_value=0)\n",
    "df_step_time['prev_process_step'] = df_step_time['process_step'].shift(-1, fill_value=0)\n",
    "df_step_time['prev_date_time'] = df_step_time['date_time'].shift(-1, fill_value='1970-01-01 00:00:00')\n",
    "\n",
    "\n",
    "# Converting to datetime\n",
    "df_step_time['date_time'] = pd.to_datetime(df_step_time['date_time'],format='%Y-%m-%d %H:%M:%S')\n",
    "df_step_time['prev_date_time'] = pd.to_datetime(df_step_time['prev_date_time'],format='%Y-%m-%d %H:%M:%S')\n",
    "\n",
    "\n",
    "# Adding a new layer, to check how the current step and the previous step compare\n",
    "df_step_time['subtracting_step'] = df_step_time['process_step'] - df_step_time['prev_process_step']\n",
    "\n",
    "# Adding a new layer, to find the time between successful steps, and filter out the ones with no useful info\n",
    "df_step_time['subtracting_date_time'] = df_step_time['date_time'] - df_step_time['prev_date_time']\n",
    "\n",
    "\n",
    "# Filtering the sample, to the interactions that moved one step forward == 1\n",
    "# and excluding the ones that had substraction with the placeholder date '1970-01-01 00:00:00' < 10000 days\n",
    "filtered_df_step_time = df_step_time[(df_step_time['subtracting_step'] == 1) & (\n",
    "    df_step_time['subtracting_date_time'] < '10000 days 00:00:00') & (\n",
    "    df_step_time['visit_id'] == df_step_time['prev_visit_id'])]"
   ]
  },
  {
   "cell_type": "code",
   "execution_count": 6,
   "id": "8558070d-f137-41d8-87e5-17fba5384605",
   "metadata": {},
   "outputs": [
    {
     "data": {
      "text/plain": [
       "count                       442623\n",
       "mean     0 days 00:01:00.451167246\n",
       "std      0 days 00:01:41.177206532\n",
       "min                0 days 00:00:00\n",
       "25%                0 days 00:00:12\n",
       "50%                0 days 00:00:31\n",
       "75%                0 days 00:01:09\n",
       "max                0 days 01:00:36\n",
       "Name: subtracting_date_time, dtype: object"
      ]
     },
     "execution_count": 6,
     "metadata": {},
     "output_type": "execute_result"
    }
   ],
   "source": [
    "filtered_df_step_time['subtracting_date_time'].describe()"
   ]
  },
  {
   "cell_type": "code",
   "execution_count": 7,
   "id": "da2d2c68-5fd2-4d58-ac85-ae447fa55a84",
   "metadata": {},
   "outputs": [
    {
     "data": {
      "text/plain": [
       "Timedelta('0 days 00:03:25')"
      ]
     },
     "execution_count": 7,
     "metadata": {},
     "output_type": "execute_result"
    }
   ],
   "source": [
    "filtered_df_step_time['subtracting_date_time'].quantile(0.95) #  3 minutes at the 95% percentile"
   ]
  },
  {
   "cell_type": "markdown",
   "id": "3dc5956d-c208-421c-8f45-8d7dffbbe0a2",
   "metadata": {},
   "source": [
    "### Defining outliers with statistical methods"
   ]
  },
  {
   "cell_type": "code",
   "execution_count": 8,
   "id": "53b7aeca-4831-4dc0-9849-aa600a5039ed",
   "metadata": {},
   "outputs": [
    {
     "data": {
      "text/plain": [
       "Timedelta('0 days 00:02:06')"
      ]
     },
     "execution_count": 8,
     "metadata": {},
     "output_type": "execute_result"
    }
   ],
   "source": [
    "# defining outliers with the IQR method\n",
    "IQR = filtered_df_step_time['subtracting_date_time'].quantile(0.75) - filtered_df_step_time['subtracting_date_time'].quantile(0.25)\n",
    "upper_limit_for_outliers = filtered_df_step_time['subtracting_date_time'].quantile(0.75) + IQR\n",
    "upper_limit_for_outliers"
   ]
  },
  {
   "cell_type": "code",
   "execution_count": 9,
   "id": "b4486df5-78fe-4338-99d7-e207204fcc0b",
   "metadata": {},
   "outputs": [
    {
     "data": {
      "text/plain": [
       "Timedelta('0 days 00:06:03.982786842')"
      ]
     },
     "execution_count": 9,
     "metadata": {},
     "output_type": "execute_result"
    }
   ],
   "source": [
    "# defining outliers with standard deviation method\n",
    "filtered_df_step_time['subtracting_date_time'].mean() + filtered_df_step_time['subtracting_date_time'].std()*3"
   ]
  },
  {
   "cell_type": "markdown",
   "id": "536e33bd-41e5-470d-b00a-86190a21d5e7",
   "metadata": {},
   "source": [
    "By this sample analysis, it appears that the average duration for a step forward in the online interaction is approximately 2 minutes, with the majority of the observations(95% percentile) within a range of around 3,5 minutes. **To identify outliers, I utilized statistical methods, opting for the Standard Deviation method (multpiplied by 3)**, which indicates that **anything exceeding 6 minutes and 4 seconds should be considered an outlier**.  \n",
    "\n",
    "I will incorporate the identified duration as a threshold to distinguish between sessions in digital footstep analysis. Considering typical intervals between steps of less than the threshold will help determine continuity within sessions versus potential new sessions."
   ]
  },
  {
   "cell_type": "markdown",
   "id": "4a07c940-3ffd-4695-8b2b-c836230523d9",
   "metadata": {},
   "source": [
    "## Data preparation, Splitting dataset for test and control group"
   ]
  },
  {
   "cell_type": "code",
   "execution_count": 10,
   "id": "253dcfa3-fb57-4a6d-b115-10a0d21c26dc",
   "metadata": {},
   "outputs": [],
   "source": [
    "# First separating the datasets for the test and control group\n",
    "df_roster_test = df_roster[df_roster.variation == 'Test']\n",
    "df_roster_control = df_roster[df_roster.variation == 'Control']\n",
    "\n",
    "df_test = df_trace[df_trace.client_id.isin(df_roster_test.client_id.unique().tolist())]\n",
    "df_control = df_trace[df_trace.client_id.isin(df_roster_control.client_id.unique().tolist())]"
   ]
  },
  {
   "cell_type": "code",
   "execution_count": 11,
   "id": "8a8e5bb3-e4fb-4cb5-aee6-aafd13711564",
   "metadata": {},
   "outputs": [],
   "source": [
    "def df_prep(df):\n",
    "    ''' Preparing the data for analysis.\n",
    "    I created the function, cause the same preparation will be done for two datasets (for test and control group).\n",
    "\n",
    "    Receives dataframe as parameter and returns updated dataframe.'''\n",
    "\n",
    "    # Rename column for brevity\n",
    "    df = df.rename(columns={'process_step': 'step'})\n",
    "\n",
    "    # Replacing the step names with numbers for analysis purposes (will do subtraction later)\n",
    "    df['step']  = df['step'].map({'start':1,'step_1':2,'step_2':3,'step_3':4,'confirm':5})\n",
    "    \n",
    "    # Sorting dataframe\n",
    "    df.sort_values(by=['client_id','date_time'], ascending=False, inplace=True)\n",
    "\n",
    "    # Dropping the columns that are not needed\n",
    "    df.drop(columns=['visitor_id','visit_id'], inplace=True)\n",
    "   \n",
    "    # Resetting index\n",
    "    df = df.reset_index(drop=True)\n",
    "\n",
    "    \n",
    "    # New columns for analysis\n",
    "    # Adding new columns that I will use for comparison: previous  and next client_id\n",
    "    df['prev_id'] = df['client_id'].shift(-1, fill_value=0)\n",
    "    df['next_id'] = df['client_id'].shift(1, fill_value=0)\n",
    "\n",
    "    # Adding new columns that I will use for comparison: previous and next step\n",
    "    df['prev_step'] = df['step'].shift(-1, fill_value=0)\n",
    "    df['next_step'] = df['step'].shift(1, fill_value=0)\n",
    "\n",
    "    # Adding new columns that I will use for comparison: previous datetime, next datetime\n",
    "    df['prev_time'] = df['date_time'].shift(-1, fill_value='1970-01-01 00:00:00')\n",
    "    df['prev_time'] = pd.to_datetime(df['prev_time'],format='%Y-%m-%d %H:%M:%S')\n",
    "\n",
    "    df['next_time'] = df['date_time'].shift(1, fill_value='1970-01-01 00:00:00')\n",
    "    df['next_time'] = pd.to_datetime(df['next_time'],format='%Y-%m-%d %H:%M:%S')\n",
    "\n",
    "    # Adding new columns that I will use for comparison: time difference between current and last step\n",
    "    df['time_diff_prev'] = df['date_time'] - df['prev_time']\n",
    "\n",
    "    # Adding new columns that I will use for comparison: step duration (difference of following datime with current one)\n",
    "    df['time_diff_next'] = df['next_time'] - df['date_time']\n",
    "\n",
    "    # Adding a new layer, to count the steps back, but making sure that I don't compare different clients\n",
    "    df['subtract_step'] = np.where(df['client_id'] == df['prev_id'],(df['step'] - df['prev_step']),0)\n",
    "\n",
    "    \n",
    "    return df"
   ]
  },
  {
   "cell_type": "code",
   "execution_count": 12,
   "id": "cbb76775-63f6-4b97-95a8-b34cbfdd9160",
   "metadata": {},
   "outputs": [],
   "source": [
    "df_test = df_prep(df_test)\n",
    "df_control = df_prep(df_control)"
   ]
  },
  {
   "cell_type": "markdown",
   "id": "5ba157f4-0f9e-4b34-b6a9-69a1e109247d",
   "metadata": {},
   "source": [
    "## Define valid sessions"
   ]
  },
  {
   "cell_type": "markdown",
   "id": "b9d76927-5d4a-4438-83dd-96403db8fe14",
   "metadata": {},
   "source": [
    "**Conditions for Defining Valid Sessions:**\n",
    "\n",
    "The condition outlined below aim to accurately identify the start of a new session within a sequence of actions:\n",
    "- **current action is 'step' 1**\n",
    "\n",
    "   **AND**\n",
    "- **the previous step is more than 6 minutes and 4 seconds ago OR the previous entry is from a different client**\n",
    "\n"
   ]
  },
  {
   "cell_type": "code",
   "execution_count": 13,
   "id": "8a80fa1b-ef58-4056-9ebb-3aa05c22398b",
   "metadata": {},
   "outputs": [],
   "source": [
    "# here I will add to my dataframes for the test and control group a column that will signify a new session\n",
    "# creating a definition cause I will do the same for both dataframes (control and test)\n",
    "\n",
    "def new_session(df):\n",
    "    ''' Function that signifies which point at the digital fottprints are new sessions, based on the conditions:\n",
    "    - current action is 'step' 1\n",
    "    AND\n",
    "    - the previous step is more than 6 min and 4 s ago OR the previous entry is from a different client\n",
    "\n",
    "    Receives the dataframe as parameter.\n",
    "    Returns dataframe with an extra column 'new_session' with True or False.'''\n",
    "\n",
    "    df['new_session'] = False\n",
    "\n",
    "    # Threshold of 6 min and 4 seconds as calculated above\n",
    "    threshold = datetime.timedelta(seconds=364)\n",
    "\n",
    "    # setting the conditions\n",
    "    conditions = np.array(\n",
    "    (df['step'] == 1) & \n",
    "    ((df['time_diff_prev'] > threshold) |\n",
    "    (df['client_id'] != df['prev_id']))\n",
    "    )\n",
    "\n",
    "    df.loc[conditions, 'new_session'] = True\n",
    "    \n",
    "    # Sorting everything to ascending order, to help with following steps\n",
    "    df.sort_values(by=['client_id','date_time'], ascending=True, inplace=True)\n",
    "\n",
    "    return df"
   ]
  },
  {
   "cell_type": "code",
   "execution_count": 14,
   "id": "b8ade5f3-20b8-43f0-897a-795c1287e752",
   "metadata": {},
   "outputs": [],
   "source": [
    "df_test = new_session(df_test)\n",
    "df_control = new_session(df_control)"
   ]
  },
  {
   "cell_type": "code",
   "execution_count": 15,
   "id": "18fe56e0-c535-4860-8150-32d7f0922be4",
   "metadata": {},
   "outputs": [],
   "source": [
    "# Numbering seperate sessions\n",
    "count = 0  # Initialize count outside the function\n",
    "\n",
    "def session_id(new_session):\n",
    "    ''' Function to number the seperate sessions'''\n",
    "    \n",
    "    global count  # Access the count variable from outside the function\n",
    "    \n",
    "    if new_session == True:\n",
    "        count += 1\n",
    "        return count       \n",
    "    else:\n",
    "        return count\n",
    "\n",
    "\n",
    "# Calling session_id that is defined in functions.py\n",
    "df_test['session_id'] = df_test['new_session'].apply(session_id)\n",
    "\n",
    "\n",
    "# Doing the same for the 'control' dataframe\n",
    "count = 0  # Resetting count outside the function\n",
    "\n",
    "df_control['session_id'] = df_control['new_session'].apply(session_id)"
   ]
  },
  {
   "cell_type": "markdown",
   "id": "66f6f6bc-ad5b-42ef-8cc6-fe9d429c3111",
   "metadata": {},
   "source": [
    "## Session metrics"
   ]
  },
  {
   "cell_type": "markdown",
   "id": "f618aa82-8be6-46c7-9a90-084c066cf232",
   "metadata": {},
   "source": [
    "Conditions:\n",
    "\n",
    "**Valid Session**:\n",
    "A valid session is characterized by consecutive steps occurring within a duration of no more than 6 minutes and 4 seconds.\n",
    "\n",
    "**Invalid Session**:\n",
    "An invalid session is identified when the time interval between consecutive steps exceeds 6 minutes and 4 seconds.\n",
    "\n",
    "**Successful Session**:\n",
    "A successful session is a valid session that successfully reaches the 'confirm' stage after traversing all required steps ('start', 'step1', 'step2', 'step3'). In cases of multiple 'confirm' steps, the last one is regarded as the official confirm. Metrics for successful sessions include quantifying the total number of steps taken, the total number of steps taken backward, and calculating the duration from the session start to the final valid confirm step.\n",
    "\n",
    "**Unsuccessful Session**:\n",
    "Unsuccessful session is one that fails to reach the 'confirm' stage completely or reaches 'confirm' without passing through the necessary steps. These sessions may be flagged for further investigation to understand the reasons behind the incomplete or irregular user behavior."
   ]
  },
  {
   "cell_type": "code",
   "execution_count": 16,
   "id": "17b33953-90f9-4b41-867b-15b94159b40d",
   "metadata": {},
   "outputs": [],
   "source": [
    "# Variable to count steps until 'confirm'\n",
    "steps_count = 1\n",
    "# Variable to count how many steps back there were per session\n",
    "steps_back = 0\n",
    "# Variable to count how many valid 'confirms' have been per session\n",
    "confirm_count = 0\n",
    "# Variable to check if there are more than 1 'confirm' in the same session\n",
    "confirmed = False\n",
    "# Variable to check if the session is valid\n",
    "valid = True\n",
    "# Variables to see if per session steps 1,2,3 were completed before 'confirm'\n",
    "check_1 = False\n",
    "check_2 = False\n",
    "check_3 = False\n",
    "# Variable to measure how long a session that reached 'confirm' lasted\n",
    "session_start = '1970-01-01 00:00:00'\n",
    "\n",
    "\n",
    "def session_info(df):\n",
    "    # To access the variable from outside the function\n",
    "    global steps_count \n",
    "    global steps_back\n",
    "    global confirm_count\n",
    "    global confirmed\n",
    "    global valid\n",
    "    global check_1\n",
    "    global check_2\n",
    "    global check_3\n",
    "    global session_start\n",
    "\n",
    "    threshold = datetime.timedelta(seconds=364)\n",
    "    \n",
    "    if df['new_session'] == True:\n",
    "        # Resetting the counts for the new sessions\n",
    "        steps_count = 1\n",
    "        steps_back = 0\n",
    "        confirm_count = 0\n",
    "        confirmed = False\n",
    "        valid = True\n",
    "        session_start = df['date_time']\n",
    "        session_start = pd.to_datetime(session_start,format='%Y-%m-%d %H:%M:%S')\n",
    "        check_1 = False\n",
    "        check_2 = False\n",
    "        checl_3 = False        \n",
    "        return [confirm_count, steps_count, steps_back, df['time_diff_next'], pd.NaT, 'valid']\n",
    "\n",
    "    elif df['time_diff_prev'] < datetime.timedelta(seconds=0):\n",
    "        # this refers to the few cases, that have the same session id, but different client_id, etc\n",
    "        # and they are in the same session_id because the new session needs 'start' to be defined.\n",
    "        # if the next client just started from any other valid, it is invalid, but currently it is \n",
    "        # noted as the same session as the one above it.\n",
    "        valid = False\n",
    "        return [confirm_count, steps_count, steps_back, pd.NaT, pd.NaT, 'invalid']\n",
    "    \n",
    "    elif df['time_diff_prev'] < threshold and valid:\n",
    "        \n",
    "        if df['step'] in (1,2,3,4):\n",
    "            if df['step'] == 2:\n",
    "                check_1 = True\n",
    "            elif df['step'] == 3:\n",
    "                check_2 = True\n",
    "            else:\n",
    "                check_3 = True\n",
    "                \n",
    "            # Counting the steps back\n",
    "            if df['subtract_step'] < 0:\n",
    "                steps_back += abs(df['subtract_step'])            \n",
    "            \n",
    "            # Counting the total steps\n",
    "            steps_count += 1\n",
    "\n",
    "            return [confirm_count, steps_count, steps_back, df['time_diff_next'], pd.NaT, 'valid']\n",
    " \n",
    "        # At the first valid 'confirm' I am returning the total number of steps\n",
    "        elif df['step'] == 5 and not confirmed and check_1 and check_2 and check_3:\n",
    "            confirm_count = 1\n",
    "            confirmed = True\n",
    "            steps_count += 1\n",
    "            session_dur = df['date_time'] - session_start\n",
    "            return [confirm_count, steps_count, steps_back, pd.NaT, session_dur,'valid']\n",
    "        \n",
    "        # When more than one 'confirm' happen within the valid timeframe, I need to return the updated info, \n",
    "        # and add a step count for the first 'confirm'\n",
    "        elif df['step'] == 5 and confirmed and check_1 and check_2 and check_3:\n",
    "            confirm_count += 1\n",
    "            session_dur = df['date_time'] - session_start\n",
    "            steps_count += 1\n",
    "            return [confirm_count, steps_count, steps_back, pd.NaT, session_dur,'valid']\n",
    "    \n",
    "        # Checking the case where'confirm' is reached without passing from all the necessary steps\n",
    "        elif df['step'] == 5 and not confirmed:\n",
    "            # I am considering it a valid session but not a successful one\n",
    "            # I will count it as an extra step, but that can be defined better later\n",
    "            steps_count += 1\n",
    "            return [confirm_count, steps_count, steps_back, df['time_diff_next'], pd.NaT, 'valid']\n",
    "    \n",
    "    elif df['time_diff_prev'] > threshold and valid:\n",
    "        valid = False\n",
    "        return [confirm_count, steps_count, steps_back, pd.NaT, pd.NaT, 'invalid']\n",
    "\n",
    "    else:\n",
    "        # this is the case where valid is already False\n",
    "        return [confirm_count, steps_count, steps_back, pd.NaT, pd.NaT, 'invalid']"
   ]
  },
  {
   "cell_type": "code",
   "execution_count": 17,
   "id": "80e7f094-896a-45b4-a495-07b2e7eccd64",
   "metadata": {},
   "outputs": [],
   "source": [
    "# Applying the above function\n",
    "df_test['session_info'] = df_test.apply(session_info, axis=1)\n",
    "df_control['session_info'] = df_control.apply(session_info, axis=1)\n",
    "\n",
    "\n",
    "# Dropping columns that will not be needed further, saving it to a new dataframe with results\n",
    "df_test_rslt = df_test.drop(columns=(['time_diff_next','time_diff_prev','new_session',\n",
    "                       'prev_id','next_id','prev_step','next_step','prev_time','next_time']))\n",
    "df_control_rslt = df_control.drop(columns=(['time_diff_next','time_diff_prev','new_session',\n",
    "                       'prev_id','next_id','prev_step','next_step','prev_time','next_time']))\n",
    "\n",
    "\n",
    "# Splitting the session info in more columns\n",
    "df_test_rslt[['confirm_cnt', 'steps_cnt', 'steps_back_cnt', 'step_dur',\n",
    "              'sess_dur_to_confirm','validity']] = df_test_rslt['session_info'].apply(pd.Series)\n",
    "df_control_rslt[['confirm_cnt', 'steps_cnt', 'steps_back_cnt', 'step_dur',\n",
    "              'sess_dur_to_confirm','validity']] = df_control_rslt['session_info'].apply(pd.Series)\n",
    "\n",
    "\n",
    "# Dropping the session_info column\n",
    "df_test_rslt = df_test_rslt.drop(columns=('session_info'))\n",
    "df_control_rslt = df_control_rslt.drop(columns=('session_info'))\n",
    "\n",
    "\n",
    "# Correcting invalid step_dur, if more than 6min and 2 sec, they are result of subtracting with the next session's time\n",
    "conditions = (df_test_rslt['step_dur'] > datetime.timedelta(seconds=363)) | (df_test_rslt['step_dur'] < datetime.timedelta(seconds=0))\n",
    "df_test_rslt.loc[conditions,'step_dur'] = pd.NaT\n",
    "\n",
    "conditions = (df_control_rslt['step_dur'] > datetime.timedelta(seconds=363)) | (df_control_rslt['step_dur'] < datetime.timedelta(seconds=0))\n",
    "df_control_rslt.loc[conditions,'step_dur'] = pd.NaT\n",
    "\n",
    "# Transforming the duration to seconds\n",
    "df_test_rslt['step_dur'] = df_test_rslt['step_dur'].dt.total_seconds().apply(lambda x: '{:.0f}'.format(x))\n",
    "df_control_rslt['step_dur'] = df_control_rslt['step_dur'].dt.total_seconds().apply(lambda x: '{:.0f}'.format(x))"
   ]
  },
  {
   "cell_type": "code",
   "execution_count": 18,
   "id": "52db1924-9a51-4641-bf46-5fc894f053d3",
   "metadata": {},
   "outputs": [
    {
     "data": {
      "text/html": [
       "<div>\n",
       "<style scoped>\n",
       "    .dataframe tbody tr th:only-of-type {\n",
       "        vertical-align: middle;\n",
       "    }\n",
       "\n",
       "    .dataframe tbody tr th {\n",
       "        vertical-align: top;\n",
       "    }\n",
       "\n",
       "    .dataframe thead th {\n",
       "        text-align: right;\n",
       "    }\n",
       "</style>\n",
       "<table border=\"1\" class=\"dataframe\">\n",
       "  <thead>\n",
       "    <tr style=\"text-align: right;\">\n",
       "      <th></th>\n",
       "      <th>client_id</th>\n",
       "      <th>step</th>\n",
       "      <th>date_time</th>\n",
       "      <th>subtract_step</th>\n",
       "      <th>session_id</th>\n",
       "      <th>confirm_cnt</th>\n",
       "      <th>steps_cnt</th>\n",
       "      <th>steps_back_cnt</th>\n",
       "      <th>step_dur</th>\n",
       "      <th>sess_dur_to_confirm</th>\n",
       "      <th>validity</th>\n",
       "    </tr>\n",
       "  </thead>\n",
       "  <tbody>\n",
       "    <tr>\n",
       "      <th>176698</th>\n",
       "      <td>1001101</td>\n",
       "      <td>1</td>\n",
       "      <td>2017-04-05 16:55:20</td>\n",
       "      <td>0</td>\n",
       "      <td>1</td>\n",
       "      <td>0</td>\n",
       "      <td>1</td>\n",
       "      <td>0</td>\n",
       "      <td>13</td>\n",
       "      <td>NaT</td>\n",
       "      <td>valid</td>\n",
       "    </tr>\n",
       "    <tr>\n",
       "      <th>176697</th>\n",
       "      <td>1001101</td>\n",
       "      <td>2</td>\n",
       "      <td>2017-04-05 16:55:33</td>\n",
       "      <td>1</td>\n",
       "      <td>1</td>\n",
       "      <td>0</td>\n",
       "      <td>2</td>\n",
       "      <td>0</td>\n",
       "      <td>29</td>\n",
       "      <td>NaT</td>\n",
       "      <td>valid</td>\n",
       "    </tr>\n",
       "    <tr>\n",
       "      <th>176696</th>\n",
       "      <td>1001101</td>\n",
       "      <td>3</td>\n",
       "      <td>2017-04-05 16:56:02</td>\n",
       "      <td>1</td>\n",
       "      <td>1</td>\n",
       "      <td>0</td>\n",
       "      <td>3</td>\n",
       "      <td>0</td>\n",
       "      <td>32</td>\n",
       "      <td>NaT</td>\n",
       "      <td>valid</td>\n",
       "    </tr>\n",
       "    <tr>\n",
       "      <th>176695</th>\n",
       "      <td>1001101</td>\n",
       "      <td>2</td>\n",
       "      <td>2017-04-05 16:56:34</td>\n",
       "      <td>-1</td>\n",
       "      <td>1</td>\n",
       "      <td>0</td>\n",
       "      <td>4</td>\n",
       "      <td>1</td>\n",
       "      <td>26</td>\n",
       "      <td>NaT</td>\n",
       "      <td>valid</td>\n",
       "    </tr>\n",
       "    <tr>\n",
       "      <th>176694</th>\n",
       "      <td>1001101</td>\n",
       "      <td>3</td>\n",
       "      <td>2017-04-05 16:57:00</td>\n",
       "      <td>1</td>\n",
       "      <td>1</td>\n",
       "      <td>0</td>\n",
       "      <td>5</td>\n",
       "      <td>1</td>\n",
       "      <td>20</td>\n",
       "      <td>NaT</td>\n",
       "      <td>valid</td>\n",
       "    </tr>\n",
       "  </tbody>\n",
       "</table>\n",
       "</div>"
      ],
      "text/plain": [
       "       client_id  step           date_time  subtract_step  session_id  \\\n",
       "176698   1001101     1 2017-04-05 16:55:20              0           1   \n",
       "176697   1001101     2 2017-04-05 16:55:33              1           1   \n",
       "176696   1001101     3 2017-04-05 16:56:02              1           1   \n",
       "176695   1001101     2 2017-04-05 16:56:34             -1           1   \n",
       "176694   1001101     3 2017-04-05 16:57:00              1           1   \n",
       "\n",
       "        confirm_cnt  steps_cnt  steps_back_cnt step_dur sess_dur_to_confirm  \\\n",
       "176698            0          1               0       13                 NaT   \n",
       "176697            0          2               0       29                 NaT   \n",
       "176696            0          3               0       32                 NaT   \n",
       "176695            0          4               1       26                 NaT   \n",
       "176694            0          5               1       20                 NaT   \n",
       "\n",
       "       validity  \n",
       "176698    valid  \n",
       "176697    valid  \n",
       "176696    valid  \n",
       "176695    valid  \n",
       "176694    valid  "
      ]
     },
     "execution_count": 18,
     "metadata": {},
     "output_type": "execute_result"
    }
   ],
   "source": [
    "df_test_rslt.head()"
   ]
  },
  {
   "cell_type": "code",
   "execution_count": 19,
   "id": "7f9f1733-b20c-4467-ad9e-301ead268152",
   "metadata": {},
   "outputs": [
    {
     "data": {
      "text/html": [
       "<div>\n",
       "<style scoped>\n",
       "    .dataframe tbody tr th:only-of-type {\n",
       "        vertical-align: middle;\n",
       "    }\n",
       "\n",
       "    .dataframe tbody tr th {\n",
       "        vertical-align: top;\n",
       "    }\n",
       "\n",
       "    .dataframe thead th {\n",
       "        text-align: right;\n",
       "    }\n",
       "</style>\n",
       "<table border=\"1\" class=\"dataframe\">\n",
       "  <thead>\n",
       "    <tr style=\"text-align: right;\">\n",
       "      <th></th>\n",
       "      <th>client_id</th>\n",
       "      <th>step</th>\n",
       "      <th>date_time</th>\n",
       "      <th>subtract_step</th>\n",
       "      <th>session_id</th>\n",
       "      <th>confirm_cnt</th>\n",
       "      <th>steps_cnt</th>\n",
       "      <th>steps_back_cnt</th>\n",
       "      <th>step_dur</th>\n",
       "      <th>sess_dur_to_confirm</th>\n",
       "      <th>validity</th>\n",
       "    </tr>\n",
       "  </thead>\n",
       "  <tbody>\n",
       "    <tr>\n",
       "      <th>140535</th>\n",
       "      <td>1000062</td>\n",
       "      <td>1</td>\n",
       "      <td>2017-04-06 15:38:49</td>\n",
       "      <td>0</td>\n",
       "      <td>1</td>\n",
       "      <td>0</td>\n",
       "      <td>1</td>\n",
       "      <td>0</td>\n",
       "      <td>182</td>\n",
       "      <td>NaT</td>\n",
       "      <td>valid</td>\n",
       "    </tr>\n",
       "    <tr>\n",
       "      <th>140534</th>\n",
       "      <td>1000062</td>\n",
       "      <td>2</td>\n",
       "      <td>2017-04-06 15:41:51</td>\n",
       "      <td>1</td>\n",
       "      <td>1</td>\n",
       "      <td>0</td>\n",
       "      <td>2</td>\n",
       "      <td>0</td>\n",
       "      <td>10</td>\n",
       "      <td>NaT</td>\n",
       "      <td>valid</td>\n",
       "    </tr>\n",
       "    <tr>\n",
       "      <th>140533</th>\n",
       "      <td>1000062</td>\n",
       "      <td>3</td>\n",
       "      <td>2017-04-06 15:42:01</td>\n",
       "      <td>1</td>\n",
       "      <td>1</td>\n",
       "      <td>0</td>\n",
       "      <td>3</td>\n",
       "      <td>0</td>\n",
       "      <td>49</td>\n",
       "      <td>NaT</td>\n",
       "      <td>valid</td>\n",
       "    </tr>\n",
       "    <tr>\n",
       "      <th>140532</th>\n",
       "      <td>1000062</td>\n",
       "      <td>4</td>\n",
       "      <td>2017-04-06 15:42:50</td>\n",
       "      <td>1</td>\n",
       "      <td>1</td>\n",
       "      <td>0</td>\n",
       "      <td>4</td>\n",
       "      <td>0</td>\n",
       "      <td>nan</td>\n",
       "      <td>NaT</td>\n",
       "      <td>valid</td>\n",
       "    </tr>\n",
       "    <tr>\n",
       "      <th>140531</th>\n",
       "      <td>1000062</td>\n",
       "      <td>5</td>\n",
       "      <td>2017-04-06 15:54:49</td>\n",
       "      <td>1</td>\n",
       "      <td>1</td>\n",
       "      <td>0</td>\n",
       "      <td>4</td>\n",
       "      <td>0</td>\n",
       "      <td>nan</td>\n",
       "      <td>NaT</td>\n",
       "      <td>invalid</td>\n",
       "    </tr>\n",
       "  </tbody>\n",
       "</table>\n",
       "</div>"
      ],
      "text/plain": [
       "       client_id  step           date_time  subtract_step  session_id  \\\n",
       "140535   1000062     1 2017-04-06 15:38:49              0           1   \n",
       "140534   1000062     2 2017-04-06 15:41:51              1           1   \n",
       "140533   1000062     3 2017-04-06 15:42:01              1           1   \n",
       "140532   1000062     4 2017-04-06 15:42:50              1           1   \n",
       "140531   1000062     5 2017-04-06 15:54:49              1           1   \n",
       "\n",
       "        confirm_cnt  steps_cnt  steps_back_cnt step_dur sess_dur_to_confirm  \\\n",
       "140535            0          1               0      182                 NaT   \n",
       "140534            0          2               0       10                 NaT   \n",
       "140533            0          3               0       49                 NaT   \n",
       "140532            0          4               0      nan                 NaT   \n",
       "140531            0          4               0      nan                 NaT   \n",
       "\n",
       "       validity  \n",
       "140535    valid  \n",
       "140534    valid  \n",
       "140533    valid  \n",
       "140532    valid  \n",
       "140531  invalid  "
      ]
     },
     "execution_count": 19,
     "metadata": {},
     "output_type": "execute_result"
    }
   ],
   "source": [
    "df_control_rslt.head()"
   ]
  },
  {
   "cell_type": "markdown",
   "id": "b3af9f9e-3d43-489e-bb3f-920c0e268323",
   "metadata": {},
   "source": [
    "# Saving files"
   ]
  },
  {
   "cell_type": "code",
   "execution_count": 20,
   "id": "949a3301-c460-4ef9-ac8e-69ad09c2a8e1",
   "metadata": {},
   "outputs": [],
   "source": [
    "# df_test_rslt.to_csv('../Data/df_test_rslt.txt')\n",
    "# df_control_rslt.to_csv('../Data/df_control_rslt.txt')"
   ]
  }
 ],
 "metadata": {
  "kernelspec": {
   "display_name": "project_2",
   "language": "python",
   "name": "project_2"
  },
  "language_info": {
   "codemirror_mode": {
    "name": "ipython",
    "version": 3
   },
   "file_extension": ".py",
   "mimetype": "text/x-python",
   "name": "python",
   "nbconvert_exporter": "python",
   "pygments_lexer": "ipython3",
   "version": "3.11.8"
  }
 },
 "nbformat": 4,
 "nbformat_minor": 5
}
