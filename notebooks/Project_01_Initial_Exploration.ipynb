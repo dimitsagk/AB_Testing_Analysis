{
 "cells": [
  {
   "cell_type": "markdown",
   "id": "fc0c1d1f-67c9-4961-bc38-6937d3ee5289",
   "metadata": {},
   "source": [
    "# Importing libraries"
   ]
  },
  {
   "cell_type": "code",
   "execution_count": 1,
   "id": "8967e1b1-c052-4cdc-842e-93fb2c03eaac",
   "metadata": {},
   "outputs": [],
   "source": [
    "import pandas as pd\n",
    "import matplotlib.pyplot as plt\n",
    "import seaborn as sns\n",
    "import numpy as np"
   ]
  },
  {
   "cell_type": "markdown",
   "id": "cc7f1a63-b7d3-414c-94b3-e136986f24f3",
   "metadata": {},
   "source": [
    "# Loading dataset"
   ]
  },
  {
   "cell_type": "code",
   "execution_count": 2,
   "id": "98eacf63-462d-462d-98dd-9874499035ac",
   "metadata": {},
   "outputs": [],
   "source": [
    "filepath1 = '../Data/df_final_demo.txt' # Client Profiles\n",
    "filepath2 = '../Data/df_final_web_data_pt_1.txt' # Digital Footprints, part 1\n",
    "filepath3 = '../Data/df_final_web_data_pt_2.txt' # Digital Footprints, part 2\n",
    "filepath4 = '../Data/df_final_experiment_clients.txt' # Experiment Roster \n",
    "\n",
    "df_clients = pd.read_csv(filepath1)\n",
    "df_trace_1 = pd.read_csv(filepath2)\n",
    "df_trace_2 = pd.read_csv(filepath3)\n",
    "df_roster = pd.read_csv(filepath4)"
   ]
  },
  {
   "cell_type": "code",
   "execution_count": 3,
   "id": "4a42462c-f2a4-4012-9c2c-58fa5f7d350d",
   "metadata": {},
   "outputs": [],
   "source": [
    "# Merging part 1 and 2 of Digital Footprints\n",
    "df_trace = pd.concat([df_trace_1, df_trace_2], axis=0)"
   ]
  },
  {
   "cell_type": "markdown",
   "id": "8fdd4260-3eab-48c4-8153-e306287184d5",
   "metadata": {},
   "source": [
    "# Initial exploration for data cleaning"
   ]
  },
  {
   "cell_type": "code",
   "execution_count": 4,
   "id": "b38aabcc-fd1e-4bec-9569-35d168c86436",
   "metadata": {
    "scrolled": true
   },
   "outputs": [
    {
     "data": {
      "text/html": [
       "<div>\n",
       "<style scoped>\n",
       "    .dataframe tbody tr th:only-of-type {\n",
       "        vertical-align: middle;\n",
       "    }\n",
       "\n",
       "    .dataframe tbody tr th {\n",
       "        vertical-align: top;\n",
       "    }\n",
       "\n",
       "    .dataframe thead th {\n",
       "        text-align: right;\n",
       "    }\n",
       "</style>\n",
       "<table border=\"1\" class=\"dataframe\">\n",
       "  <thead>\n",
       "    <tr style=\"text-align: right;\">\n",
       "      <th></th>\n",
       "      <th>client_id</th>\n",
       "      <th>clnt_tenure_yr</th>\n",
       "      <th>clnt_tenure_mnth</th>\n",
       "      <th>clnt_age</th>\n",
       "      <th>gendr</th>\n",
       "      <th>num_accts</th>\n",
       "      <th>bal</th>\n",
       "      <th>calls_6_mnth</th>\n",
       "      <th>logons_6_mnth</th>\n",
       "    </tr>\n",
       "  </thead>\n",
       "  <tbody>\n",
       "    <tr>\n",
       "      <th>0</th>\n",
       "      <td>836976</td>\n",
       "      <td>6.0</td>\n",
       "      <td>73.0</td>\n",
       "      <td>60.5</td>\n",
       "      <td>U</td>\n",
       "      <td>2.0</td>\n",
       "      <td>45105.30</td>\n",
       "      <td>6.0</td>\n",
       "      <td>9.0</td>\n",
       "    </tr>\n",
       "    <tr>\n",
       "      <th>1</th>\n",
       "      <td>2304905</td>\n",
       "      <td>7.0</td>\n",
       "      <td>94.0</td>\n",
       "      <td>58.0</td>\n",
       "      <td>U</td>\n",
       "      <td>2.0</td>\n",
       "      <td>110860.30</td>\n",
       "      <td>6.0</td>\n",
       "      <td>9.0</td>\n",
       "    </tr>\n",
       "    <tr>\n",
       "      <th>2</th>\n",
       "      <td>1439522</td>\n",
       "      <td>5.0</td>\n",
       "      <td>64.0</td>\n",
       "      <td>32.0</td>\n",
       "      <td>U</td>\n",
       "      <td>2.0</td>\n",
       "      <td>52467.79</td>\n",
       "      <td>6.0</td>\n",
       "      <td>9.0</td>\n",
       "    </tr>\n",
       "    <tr>\n",
       "      <th>3</th>\n",
       "      <td>1562045</td>\n",
       "      <td>16.0</td>\n",
       "      <td>198.0</td>\n",
       "      <td>49.0</td>\n",
       "      <td>M</td>\n",
       "      <td>2.0</td>\n",
       "      <td>67454.65</td>\n",
       "      <td>3.0</td>\n",
       "      <td>6.0</td>\n",
       "    </tr>\n",
       "    <tr>\n",
       "      <th>4</th>\n",
       "      <td>5126305</td>\n",
       "      <td>12.0</td>\n",
       "      <td>145.0</td>\n",
       "      <td>33.0</td>\n",
       "      <td>F</td>\n",
       "      <td>2.0</td>\n",
       "      <td>103671.75</td>\n",
       "      <td>0.0</td>\n",
       "      <td>3.0</td>\n",
       "    </tr>\n",
       "  </tbody>\n",
       "</table>\n",
       "</div>"
      ],
      "text/plain": [
       "   client_id  clnt_tenure_yr  clnt_tenure_mnth  clnt_age gendr  num_accts  \\\n",
       "0     836976             6.0              73.0      60.5     U        2.0   \n",
       "1    2304905             7.0              94.0      58.0     U        2.0   \n",
       "2    1439522             5.0              64.0      32.0     U        2.0   \n",
       "3    1562045            16.0             198.0      49.0     M        2.0   \n",
       "4    5126305            12.0             145.0      33.0     F        2.0   \n",
       "\n",
       "         bal  calls_6_mnth  logons_6_mnth  \n",
       "0   45105.30           6.0            9.0  \n",
       "1  110860.30           6.0            9.0  \n",
       "2   52467.79           6.0            9.0  \n",
       "3   67454.65           3.0            6.0  \n",
       "4  103671.75           0.0            3.0  "
      ]
     },
     "execution_count": 4,
     "metadata": {},
     "output_type": "execute_result"
    }
   ],
   "source": [
    "df_clients.head()"
   ]
  },
  {
   "cell_type": "markdown",
   "id": "ea59429d-764e-48c7-b54c-76c6b5bb47a3",
   "metadata": {},
   "source": [
    "#### Null values"
   ]
  },
  {
   "cell_type": "code",
   "execution_count": 5,
   "id": "b9f358d1-cd99-43be-b16a-7bc487fdd5ac",
   "metadata": {},
   "outputs": [
    {
     "data": {
      "text/plain": [
       "client_id            0\n",
       "clnt_tenure_yr      14\n",
       "clnt_tenure_mnth    14\n",
       "clnt_age            15\n",
       "gendr               14\n",
       "num_accts           14\n",
       "bal                 14\n",
       "calls_6_mnth        14\n",
       "logons_6_mnth       14\n",
       "dtype: int64"
      ]
     },
     "execution_count": 5,
     "metadata": {},
     "output_type": "execute_result"
    }
   ],
   "source": [
    "df_clients.isna().sum() # checking for null values"
   ]
  },
  {
   "cell_type": "code",
   "execution_count": 6,
   "id": "d268541b-7df7-4e48-b2f1-444163e7f7b6",
   "metadata": {
    "scrolled": true
   },
   "outputs": [],
   "source": [
    "# Looking at the rows with more than 7 NaN values -> They have no info except for client _id\n",
    "# df_client[df_client.isna().sum(axis=1) > 7]"
   ]
  },
  {
   "cell_type": "code",
   "execution_count": 7,
   "id": "ec9e1d94-95b1-4830-85fe-892b41d9de59",
   "metadata": {},
   "outputs": [],
   "source": [
    "# df_roster.isna().sum() # Variation    20109 NaN values\n",
    "# df_roster[\"Variation\"].unique() # ['Test', 'Control', nan]"
   ]
  },
  {
   "cell_type": "code",
   "execution_count": 8,
   "id": "dc0bbc22-c7b0-413e-a172-219bd4ef04bb",
   "metadata": {
    "scrolled": true
   },
   "outputs": [
    {
     "data": {
      "text/html": [
       "<div>\n",
       "<style scoped>\n",
       "    .dataframe tbody tr th:only-of-type {\n",
       "        vertical-align: middle;\n",
       "    }\n",
       "\n",
       "    .dataframe tbody tr th {\n",
       "        vertical-align: top;\n",
       "    }\n",
       "\n",
       "    .dataframe thead th {\n",
       "        text-align: right;\n",
       "    }\n",
       "</style>\n",
       "<table border=\"1\" class=\"dataframe\">\n",
       "  <thead>\n",
       "    <tr style=\"text-align: right;\">\n",
       "      <th></th>\n",
       "      <th>client_id</th>\n",
       "      <th>Variation</th>\n",
       "    </tr>\n",
       "  </thead>\n",
       "  <tbody>\n",
       "    <tr>\n",
       "      <th>50500</th>\n",
       "      <td>5459747</td>\n",
       "      <td>NaN</td>\n",
       "    </tr>\n",
       "    <tr>\n",
       "      <th>50501</th>\n",
       "      <td>8031000</td>\n",
       "      <td>NaN</td>\n",
       "    </tr>\n",
       "    <tr>\n",
       "      <th>50502</th>\n",
       "      <td>1847030</td>\n",
       "      <td>NaN</td>\n",
       "    </tr>\n",
       "    <tr>\n",
       "      <th>50503</th>\n",
       "      <td>9713157</td>\n",
       "      <td>NaN</td>\n",
       "    </tr>\n",
       "    <tr>\n",
       "      <th>50504</th>\n",
       "      <td>7775828</td>\n",
       "      <td>NaN</td>\n",
       "    </tr>\n",
       "    <tr>\n",
       "      <th>...</th>\n",
       "      <td>...</td>\n",
       "      <td>...</td>\n",
       "    </tr>\n",
       "    <tr>\n",
       "      <th>70604</th>\n",
       "      <td>2443347</td>\n",
       "      <td>NaN</td>\n",
       "    </tr>\n",
       "    <tr>\n",
       "      <th>70605</th>\n",
       "      <td>8788427</td>\n",
       "      <td>NaN</td>\n",
       "    </tr>\n",
       "    <tr>\n",
       "      <th>70606</th>\n",
       "      <td>266828</td>\n",
       "      <td>NaN</td>\n",
       "    </tr>\n",
       "    <tr>\n",
       "      <th>70607</th>\n",
       "      <td>1266421</td>\n",
       "      <td>NaN</td>\n",
       "    </tr>\n",
       "    <tr>\n",
       "      <th>70608</th>\n",
       "      <td>9895983</td>\n",
       "      <td>NaN</td>\n",
       "    </tr>\n",
       "  </tbody>\n",
       "</table>\n",
       "<p>20109 rows × 2 columns</p>\n",
       "</div>"
      ],
      "text/plain": [
       "       client_id Variation\n",
       "50500    5459747       NaN\n",
       "50501    8031000       NaN\n",
       "50502    1847030       NaN\n",
       "50503    9713157       NaN\n",
       "50504    7775828       NaN\n",
       "...          ...       ...\n",
       "70604    2443347       NaN\n",
       "70605    8788427       NaN\n",
       "70606     266828       NaN\n",
       "70607    1266421       NaN\n",
       "70608    9895983       NaN\n",
       "\n",
       "[20109 rows x 2 columns]"
      ]
     },
     "execution_count": 8,
     "metadata": {},
     "output_type": "execute_result"
    }
   ],
   "source": [
    "# Finding the rows with NaN values\n",
    "df_roster[df_roster[\"Variation\"].isna()]"
   ]
  },
  {
   "cell_type": "code",
   "execution_count": 9,
   "id": "0f985bdf-50df-45ec-b22d-7e0a0364b785",
   "metadata": {},
   "outputs": [
    {
     "data": {
      "text/plain": [
       "client_id       0\n",
       "visitor_id      0\n",
       "visit_id        0\n",
       "process_step    0\n",
       "date_time       0\n",
       "dtype: int64"
      ]
     },
     "execution_count": 9,
     "metadata": {},
     "output_type": "execute_result"
    }
   ],
   "source": [
    "df_trace.isna().sum() # no null values here"
   ]
  },
  {
   "cell_type": "code",
   "execution_count": 10,
   "id": "7024d339-65f1-49b7-8216-e06f67a242aa",
   "metadata": {},
   "outputs": [
    {
     "data": {
      "text/html": [
       "<div>\n",
       "<style scoped>\n",
       "    .dataframe tbody tr th:only-of-type {\n",
       "        vertical-align: middle;\n",
       "    }\n",
       "\n",
       "    .dataframe tbody tr th {\n",
       "        vertical-align: top;\n",
       "    }\n",
       "\n",
       "    .dataframe thead th {\n",
       "        text-align: right;\n",
       "    }\n",
       "</style>\n",
       "<table border=\"1\" class=\"dataframe\">\n",
       "  <thead>\n",
       "    <tr style=\"text-align: right;\">\n",
       "      <th></th>\n",
       "      <th>client_id</th>\n",
       "      <th>Variation</th>\n",
       "    </tr>\n",
       "  </thead>\n",
       "  <tbody>\n",
       "    <tr>\n",
       "      <th>51686</th>\n",
       "      <td>1618749</td>\n",
       "      <td>NaN</td>\n",
       "    </tr>\n",
       "    <tr>\n",
       "      <th>65936</th>\n",
       "      <td>6021001</td>\n",
       "      <td>NaN</td>\n",
       "    </tr>\n",
       "  </tbody>\n",
       "</table>\n",
       "</div>"
      ],
      "text/plain": [
       "       client_id Variation\n",
       "51686    1618749       NaN\n",
       "65936    6021001       NaN"
      ]
     },
     "execution_count": 10,
     "metadata": {},
     "output_type": "execute_result"
    }
   ],
   "source": [
    "# Making a list of the rows that only have client_id, and will be deleted, to check if they are also null at df_roster\n",
    "list_clients_null = df_clients[df_clients.isna().sum(axis=1) > 7][\"client_id\"].tolist()\n",
    "df_roster[df_roster[\"Variation\"].isna() & df_roster[\"client_id\"].isin(list_clients_null)]"
   ]
  },
  {
   "cell_type": "code",
   "execution_count": 11,
   "id": "f0e0d3db-951d-464f-b7ba-d43aa97f5dbe",
   "metadata": {},
   "outputs": [
    {
     "data": {
      "text/html": [
       "<div>\n",
       "<style scoped>\n",
       "    .dataframe tbody tr th:only-of-type {\n",
       "        vertical-align: middle;\n",
       "    }\n",
       "\n",
       "    .dataframe tbody tr th {\n",
       "        vertical-align: top;\n",
       "    }\n",
       "\n",
       "    .dataframe thead th {\n",
       "        text-align: right;\n",
       "    }\n",
       "</style>\n",
       "<table border=\"1\" class=\"dataframe\">\n",
       "  <thead>\n",
       "    <tr style=\"text-align: right;\">\n",
       "      <th></th>\n",
       "      <th>client_id</th>\n",
       "      <th>Variation</th>\n",
       "    </tr>\n",
       "  </thead>\n",
       "  <tbody>\n",
       "    <tr>\n",
       "      <th>5171</th>\n",
       "      <td>8191345</td>\n",
       "      <td>Control</td>\n",
       "    </tr>\n",
       "    <tr>\n",
       "      <th>7131</th>\n",
       "      <td>5144725</td>\n",
       "      <td>Test</td>\n",
       "    </tr>\n",
       "    <tr>\n",
       "      <th>8902</th>\n",
       "      <td>7616759</td>\n",
       "      <td>Control</td>\n",
       "    </tr>\n",
       "    <tr>\n",
       "      <th>18742</th>\n",
       "      <td>2222915</td>\n",
       "      <td>Test</td>\n",
       "    </tr>\n",
       "    <tr>\n",
       "      <th>19391</th>\n",
       "      <td>5277910</td>\n",
       "      <td>Test</td>\n",
       "    </tr>\n",
       "    <tr>\n",
       "      <th>23678</th>\n",
       "      <td>8412164</td>\n",
       "      <td>Test</td>\n",
       "    </tr>\n",
       "    <tr>\n",
       "      <th>36137</th>\n",
       "      <td>8611797</td>\n",
       "      <td>Control</td>\n",
       "    </tr>\n",
       "    <tr>\n",
       "      <th>36245</th>\n",
       "      <td>355337</td>\n",
       "      <td>Control</td>\n",
       "    </tr>\n",
       "    <tr>\n",
       "      <th>38599</th>\n",
       "      <td>1227228</td>\n",
       "      <td>Test</td>\n",
       "    </tr>\n",
       "    <tr>\n",
       "      <th>48110</th>\n",
       "      <td>1037867</td>\n",
       "      <td>Test</td>\n",
       "    </tr>\n",
       "    <tr>\n",
       "      <th>48686</th>\n",
       "      <td>7402828</td>\n",
       "      <td>Control</td>\n",
       "    </tr>\n",
       "    <tr>\n",
       "      <th>49669</th>\n",
       "      <td>4876926</td>\n",
       "      <td>Test</td>\n",
       "    </tr>\n",
       "    <tr>\n",
       "      <th>51686</th>\n",
       "      <td>1618749</td>\n",
       "      <td>NaN</td>\n",
       "    </tr>\n",
       "    <tr>\n",
       "      <th>65936</th>\n",
       "      <td>6021001</td>\n",
       "      <td>NaN</td>\n",
       "    </tr>\n",
       "  </tbody>\n",
       "</table>\n",
       "</div>"
      ],
      "text/plain": [
       "       client_id Variation\n",
       "5171     8191345   Control\n",
       "7131     5144725      Test\n",
       "8902     7616759   Control\n",
       "18742    2222915      Test\n",
       "19391    5277910      Test\n",
       "23678    8412164      Test\n",
       "36137    8611797   Control\n",
       "36245     355337   Control\n",
       "38599    1227228      Test\n",
       "48110    1037867      Test\n",
       "48686    7402828   Control\n",
       "49669    4876926      Test\n",
       "51686    1618749       NaN\n",
       "65936    6021001       NaN"
      ]
     },
     "execution_count": 11,
     "metadata": {},
     "output_type": "execute_result"
    }
   ],
   "source": [
    "# it seems that the clients with no info at df_clients, have info in the other datasets\n",
    "df_roster[df_roster[\"client_id\"].isin(list_clients_null)]"
   ]
  },
  {
   "cell_type": "markdown",
   "id": "ad09170a-cfa1-4e5a-b829-d7814b7609ae",
   "metadata": {},
   "source": [
    "#### Duplicated values"
   ]
  },
  {
   "cell_type": "code",
   "execution_count": 12,
   "id": "dd1b30f2-4335-41e9-b867-d35a2a2887b0",
   "metadata": {},
   "outputs": [
    {
     "data": {
      "text/plain": [
       "10764"
      ]
     },
     "execution_count": 12,
     "metadata": {},
     "output_type": "execute_result"
    }
   ],
   "source": [
    "df_clients.duplicated().sum() # 0\n",
    "df_roster.duplicated().sum() # 0\n",
    "df_trace.duplicated().sum() # 10764"
   ]
  },
  {
   "cell_type": "code",
   "execution_count": 13,
   "id": "8b929b08-2504-4c66-9834-92414bbe0a6c",
   "metadata": {
    "scrolled": true
   },
   "outputs": [],
   "source": [
    "# df_trace[df_trace.duplicated()] # having a look to the duplicated values\n",
    "# df_trace[df_trace[\"date_time\"] == \"2017-06-06 09:17:23\"]\n",
    "# duplicated values are okay to be dropped"
   ]
  },
  {
   "cell_type": "code",
   "execution_count": 14,
   "id": "0a2b383c-9465-4800-b441-a63f6bfee953",
   "metadata": {},
   "outputs": [
    {
     "data": {
      "text/plain": [
       "70609"
      ]
     },
     "execution_count": 14,
     "metadata": {},
     "output_type": "execute_result"
    }
   ],
   "source": [
    "df_clients.client_id.nunique() # 70609 same as rows, no duplicated ids"
   ]
  },
  {
   "cell_type": "markdown",
   "id": "691d8920-8fdb-45f9-8e35-79384bc0aaf5",
   "metadata": {},
   "source": [
    "#### Dtypes"
   ]
  },
  {
   "cell_type": "code",
   "execution_count": 15,
   "id": "7f253670-ccde-4205-bbbb-6c72e36cd871",
   "metadata": {
    "scrolled": true
   },
   "outputs": [
    {
     "data": {
      "text/plain": [
       "client_id             int64\n",
       "clnt_tenure_yr      float64\n",
       "clnt_tenure_mnth    float64\n",
       "clnt_age            float64\n",
       "gendr                object\n",
       "num_accts           float64\n",
       "bal                 float64\n",
       "calls_6_mnth        float64\n",
       "logons_6_mnth       float64\n",
       "dtype: object"
      ]
     },
     "execution_count": 15,
     "metadata": {},
     "output_type": "execute_result"
    }
   ],
   "source": [
    "df_clients.dtypes"
   ]
  },
  {
   "cell_type": "code",
   "execution_count": 16,
   "id": "d9e02a3b-63eb-45bf-b247-a7cc979d2c3c",
   "metadata": {},
   "outputs": [],
   "source": [
    "# \"client_id\" to be casted as string, no intention to to perform mathematical operations on it"
   ]
  },
  {
   "cell_type": "code",
   "execution_count": 17,
   "id": "120c064b-0efc-45bc-abb2-2dd9ec3ff08d",
   "metadata": {
    "scrolled": true
   },
   "outputs": [
    {
     "data": {
      "text/html": [
       "<div>\n",
       "<style scoped>\n",
       "    .dataframe tbody tr th:only-of-type {\n",
       "        vertical-align: middle;\n",
       "    }\n",
       "\n",
       "    .dataframe tbody tr th {\n",
       "        vertical-align: top;\n",
       "    }\n",
       "\n",
       "    .dataframe thead th {\n",
       "        text-align: right;\n",
       "    }\n",
       "</style>\n",
       "<table border=\"1\" class=\"dataframe\">\n",
       "  <thead>\n",
       "    <tr style=\"text-align: right;\">\n",
       "      <th></th>\n",
       "      <th>client_id</th>\n",
       "      <th>clnt_tenure_yr</th>\n",
       "      <th>clnt_tenure_mnth</th>\n",
       "      <th>clnt_age</th>\n",
       "      <th>gendr</th>\n",
       "      <th>num_accts</th>\n",
       "      <th>bal</th>\n",
       "      <th>calls_6_mnth</th>\n",
       "      <th>logons_6_mnth</th>\n",
       "    </tr>\n",
       "  </thead>\n",
       "  <tbody>\n",
       "    <tr>\n",
       "      <th>4164</th>\n",
       "      <td>7402828</td>\n",
       "      <td>NaN</td>\n",
       "      <td>NaN</td>\n",
       "      <td>NaN</td>\n",
       "      <td>NaN</td>\n",
       "      <td>NaN</td>\n",
       "      <td>NaN</td>\n",
       "      <td>NaN</td>\n",
       "      <td>NaN</td>\n",
       "    </tr>\n",
       "    <tr>\n",
       "      <th>8316</th>\n",
       "      <td>355337</td>\n",
       "      <td>NaN</td>\n",
       "      <td>NaN</td>\n",
       "      <td>NaN</td>\n",
       "      <td>NaN</td>\n",
       "      <td>NaN</td>\n",
       "      <td>NaN</td>\n",
       "      <td>NaN</td>\n",
       "      <td>NaN</td>\n",
       "    </tr>\n",
       "    <tr>\n",
       "      <th>8677</th>\n",
       "      <td>8412164</td>\n",
       "      <td>NaN</td>\n",
       "      <td>NaN</td>\n",
       "      <td>NaN</td>\n",
       "      <td>NaN</td>\n",
       "      <td>NaN</td>\n",
       "      <td>NaN</td>\n",
       "      <td>NaN</td>\n",
       "      <td>NaN</td>\n",
       "    </tr>\n",
       "    <tr>\n",
       "      <th>13444</th>\n",
       "      <td>2222915</td>\n",
       "      <td>NaN</td>\n",
       "      <td>NaN</td>\n",
       "      <td>NaN</td>\n",
       "      <td>NaN</td>\n",
       "      <td>NaN</td>\n",
       "      <td>NaN</td>\n",
       "      <td>NaN</td>\n",
       "      <td>NaN</td>\n",
       "    </tr>\n",
       "    <tr>\n",
       "      <th>18066</th>\n",
       "      <td>4876926</td>\n",
       "      <td>NaN</td>\n",
       "      <td>NaN</td>\n",
       "      <td>NaN</td>\n",
       "      <td>NaN</td>\n",
       "      <td>NaN</td>\n",
       "      <td>NaN</td>\n",
       "      <td>NaN</td>\n",
       "      <td>NaN</td>\n",
       "    </tr>\n",
       "    <tr>\n",
       "      <th>25961</th>\n",
       "      <td>5277910</td>\n",
       "      <td>NaN</td>\n",
       "      <td>NaN</td>\n",
       "      <td>NaN</td>\n",
       "      <td>NaN</td>\n",
       "      <td>NaN</td>\n",
       "      <td>NaN</td>\n",
       "      <td>NaN</td>\n",
       "      <td>NaN</td>\n",
       "    </tr>\n",
       "    <tr>\n",
       "      <th>28432</th>\n",
       "      <td>7616759</td>\n",
       "      <td>NaN</td>\n",
       "      <td>NaN</td>\n",
       "      <td>NaN</td>\n",
       "      <td>NaN</td>\n",
       "      <td>NaN</td>\n",
       "      <td>NaN</td>\n",
       "      <td>NaN</td>\n",
       "      <td>NaN</td>\n",
       "    </tr>\n",
       "    <tr>\n",
       "      <th>35323</th>\n",
       "      <td>8191345</td>\n",
       "      <td>NaN</td>\n",
       "      <td>NaN</td>\n",
       "      <td>NaN</td>\n",
       "      <td>NaN</td>\n",
       "      <td>NaN</td>\n",
       "      <td>NaN</td>\n",
       "      <td>NaN</td>\n",
       "      <td>NaN</td>\n",
       "    </tr>\n",
       "    <tr>\n",
       "      <th>43518</th>\n",
       "      <td>1227228</td>\n",
       "      <td>NaN</td>\n",
       "      <td>NaN</td>\n",
       "      <td>NaN</td>\n",
       "      <td>NaN</td>\n",
       "      <td>NaN</td>\n",
       "      <td>NaN</td>\n",
       "      <td>NaN</td>\n",
       "      <td>NaN</td>\n",
       "    </tr>\n",
       "    <tr>\n",
       "      <th>46076</th>\n",
       "      <td>8611797</td>\n",
       "      <td>NaN</td>\n",
       "      <td>NaN</td>\n",
       "      <td>NaN</td>\n",
       "      <td>NaN</td>\n",
       "      <td>NaN</td>\n",
       "      <td>NaN</td>\n",
       "      <td>NaN</td>\n",
       "      <td>NaN</td>\n",
       "    </tr>\n",
       "    <tr>\n",
       "      <th>47189</th>\n",
       "      <td>5144725</td>\n",
       "      <td>NaN</td>\n",
       "      <td>NaN</td>\n",
       "      <td>NaN</td>\n",
       "      <td>NaN</td>\n",
       "      <td>NaN</td>\n",
       "      <td>NaN</td>\n",
       "      <td>NaN</td>\n",
       "      <td>NaN</td>\n",
       "    </tr>\n",
       "    <tr>\n",
       "      <th>49846</th>\n",
       "      <td>1037867</td>\n",
       "      <td>NaN</td>\n",
       "      <td>NaN</td>\n",
       "      <td>NaN</td>\n",
       "      <td>NaN</td>\n",
       "      <td>NaN</td>\n",
       "      <td>NaN</td>\n",
       "      <td>NaN</td>\n",
       "      <td>NaN</td>\n",
       "    </tr>\n",
       "    <tr>\n",
       "      <th>63701</th>\n",
       "      <td>1618749</td>\n",
       "      <td>NaN</td>\n",
       "      <td>NaN</td>\n",
       "      <td>NaN</td>\n",
       "      <td>NaN</td>\n",
       "      <td>NaN</td>\n",
       "      <td>NaN</td>\n",
       "      <td>NaN</td>\n",
       "      <td>NaN</td>\n",
       "    </tr>\n",
       "    <tr>\n",
       "      <th>66219</th>\n",
       "      <td>6021001</td>\n",
       "      <td>NaN</td>\n",
       "      <td>NaN</td>\n",
       "      <td>NaN</td>\n",
       "      <td>NaN</td>\n",
       "      <td>NaN</td>\n",
       "      <td>NaN</td>\n",
       "      <td>NaN</td>\n",
       "      <td>NaN</td>\n",
       "    </tr>\n",
       "  </tbody>\n",
       "</table>\n",
       "</div>"
      ],
      "text/plain": [
       "       client_id  clnt_tenure_yr  clnt_tenure_mnth  clnt_age gendr  num_accts  \\\n",
       "4164     7402828             NaN               NaN       NaN   NaN        NaN   \n",
       "8316      355337             NaN               NaN       NaN   NaN        NaN   \n",
       "8677     8412164             NaN               NaN       NaN   NaN        NaN   \n",
       "13444    2222915             NaN               NaN       NaN   NaN        NaN   \n",
       "18066    4876926             NaN               NaN       NaN   NaN        NaN   \n",
       "25961    5277910             NaN               NaN       NaN   NaN        NaN   \n",
       "28432    7616759             NaN               NaN       NaN   NaN        NaN   \n",
       "35323    8191345             NaN               NaN       NaN   NaN        NaN   \n",
       "43518    1227228             NaN               NaN       NaN   NaN        NaN   \n",
       "46076    8611797             NaN               NaN       NaN   NaN        NaN   \n",
       "47189    5144725             NaN               NaN       NaN   NaN        NaN   \n",
       "49846    1037867             NaN               NaN       NaN   NaN        NaN   \n",
       "63701    1618749             NaN               NaN       NaN   NaN        NaN   \n",
       "66219    6021001             NaN               NaN       NaN   NaN        NaN   \n",
       "\n",
       "       bal  calls_6_mnth  logons_6_mnth  \n",
       "4164   NaN           NaN            NaN  \n",
       "8316   NaN           NaN            NaN  \n",
       "8677   NaN           NaN            NaN  \n",
       "13444  NaN           NaN            NaN  \n",
       "18066  NaN           NaN            NaN  \n",
       "25961  NaN           NaN            NaN  \n",
       "28432  NaN           NaN            NaN  \n",
       "35323  NaN           NaN            NaN  \n",
       "43518  NaN           NaN            NaN  \n",
       "46076  NaN           NaN            NaN  \n",
       "47189  NaN           NaN            NaN  \n",
       "49846  NaN           NaN            NaN  \n",
       "63701  NaN           NaN            NaN  \n",
       "66219  NaN           NaN            NaN  "
      ]
     },
     "execution_count": 17,
     "metadata": {},
     "output_type": "execute_result"
    }
   ],
   "source": [
    "# Check if any decimal values exist in the float columns\n",
    "df_clients[df_clients['clnt_tenure_mnth'] % 1 != 0]\n",
    "# testing that for all float columns reveals that only the \"clnt_age\" and \"bal\" are actually float numbers\n",
    "# the others can be casted as integers"
   ]
  },
  {
   "cell_type": "code",
   "execution_count": 18,
   "id": "26cda382-0e18-4514-8718-643d2ec820b7",
   "metadata": {
    "scrolled": true
   },
   "outputs": [
    {
     "data": {
      "text/plain": [
       "client_id     int64\n",
       "Variation    object\n",
       "dtype: object"
      ]
     },
     "execution_count": 18,
     "metadata": {},
     "output_type": "execute_result"
    }
   ],
   "source": [
    "df_roster.dtypes # same for \"client_id\" here, to be casted as string"
   ]
  },
  {
   "cell_type": "code",
   "execution_count": 19,
   "id": "609bb0f4-4f20-41af-b155-b7db6785dd2c",
   "metadata": {
    "scrolled": true
   },
   "outputs": [
    {
     "data": {
      "text/plain": [
       "client_id        int64\n",
       "visitor_id      object\n",
       "visit_id        object\n",
       "process_step    object\n",
       "date_time       object\n",
       "dtype: object"
      ]
     },
     "execution_count": 19,
     "metadata": {},
     "output_type": "execute_result"
    }
   ],
   "source": [
    "df_trace.dtypes # cast date_time as datetime pandas object"
   ]
  },
  {
   "cell_type": "code",
   "execution_count": 20,
   "id": "4170df62-638c-419b-b413-cc975ce7075b",
   "metadata": {},
   "outputs": [
    {
     "data": {
      "text/html": [
       "<div>\n",
       "<style scoped>\n",
       "    .dataframe tbody tr th:only-of-type {\n",
       "        vertical-align: middle;\n",
       "    }\n",
       "\n",
       "    .dataframe tbody tr th {\n",
       "        vertical-align: top;\n",
       "    }\n",
       "\n",
       "    .dataframe thead th {\n",
       "        text-align: right;\n",
       "    }\n",
       "</style>\n",
       "<table border=\"1\" class=\"dataframe\">\n",
       "  <thead>\n",
       "    <tr style=\"text-align: right;\">\n",
       "      <th></th>\n",
       "      <th>client_id</th>\n",
       "      <th>clnt_tenure_yr</th>\n",
       "      <th>clnt_tenure_mnth</th>\n",
       "      <th>clnt_age</th>\n",
       "      <th>num_accts</th>\n",
       "      <th>bal</th>\n",
       "      <th>calls_6_mnth</th>\n",
       "      <th>logons_6_mnth</th>\n",
       "    </tr>\n",
       "  </thead>\n",
       "  <tbody>\n",
       "    <tr>\n",
       "      <th>0</th>\n",
       "      <td>836976</td>\n",
       "      <td>6.0</td>\n",
       "      <td>73.0</td>\n",
       "      <td>60.5</td>\n",
       "      <td>2.0</td>\n",
       "      <td>45105.30</td>\n",
       "      <td>6.0</td>\n",
       "      <td>9.0</td>\n",
       "    </tr>\n",
       "    <tr>\n",
       "      <th>1</th>\n",
       "      <td>2304905</td>\n",
       "      <td>7.0</td>\n",
       "      <td>94.0</td>\n",
       "      <td>58.0</td>\n",
       "      <td>2.0</td>\n",
       "      <td>110860.30</td>\n",
       "      <td>6.0</td>\n",
       "      <td>9.0</td>\n",
       "    </tr>\n",
       "    <tr>\n",
       "      <th>2</th>\n",
       "      <td>1439522</td>\n",
       "      <td>5.0</td>\n",
       "      <td>64.0</td>\n",
       "      <td>32.0</td>\n",
       "      <td>2.0</td>\n",
       "      <td>52467.79</td>\n",
       "      <td>6.0</td>\n",
       "      <td>9.0</td>\n",
       "    </tr>\n",
       "    <tr>\n",
       "      <th>3</th>\n",
       "      <td>1562045</td>\n",
       "      <td>16.0</td>\n",
       "      <td>198.0</td>\n",
       "      <td>49.0</td>\n",
       "      <td>2.0</td>\n",
       "      <td>67454.65</td>\n",
       "      <td>3.0</td>\n",
       "      <td>6.0</td>\n",
       "    </tr>\n",
       "    <tr>\n",
       "      <th>4</th>\n",
       "      <td>5126305</td>\n",
       "      <td>12.0</td>\n",
       "      <td>145.0</td>\n",
       "      <td>33.0</td>\n",
       "      <td>2.0</td>\n",
       "      <td>103671.75</td>\n",
       "      <td>0.0</td>\n",
       "      <td>3.0</td>\n",
       "    </tr>\n",
       "    <tr>\n",
       "      <th>...</th>\n",
       "      <td>...</td>\n",
       "      <td>...</td>\n",
       "      <td>...</td>\n",
       "      <td>...</td>\n",
       "      <td>...</td>\n",
       "      <td>...</td>\n",
       "      <td>...</td>\n",
       "      <td>...</td>\n",
       "    </tr>\n",
       "    <tr>\n",
       "      <th>70604</th>\n",
       "      <td>7993686</td>\n",
       "      <td>4.0</td>\n",
       "      <td>56.0</td>\n",
       "      <td>38.5</td>\n",
       "      <td>3.0</td>\n",
       "      <td>1411062.68</td>\n",
       "      <td>5.0</td>\n",
       "      <td>5.0</td>\n",
       "    </tr>\n",
       "    <tr>\n",
       "      <th>70605</th>\n",
       "      <td>8981690</td>\n",
       "      <td>12.0</td>\n",
       "      <td>148.0</td>\n",
       "      <td>31.0</td>\n",
       "      <td>2.0</td>\n",
       "      <td>101867.07</td>\n",
       "      <td>6.0</td>\n",
       "      <td>6.0</td>\n",
       "    </tr>\n",
       "    <tr>\n",
       "      <th>70606</th>\n",
       "      <td>333913</td>\n",
       "      <td>16.0</td>\n",
       "      <td>198.0</td>\n",
       "      <td>61.5</td>\n",
       "      <td>2.0</td>\n",
       "      <td>40745.00</td>\n",
       "      <td>3.0</td>\n",
       "      <td>3.0</td>\n",
       "    </tr>\n",
       "    <tr>\n",
       "      <th>70607</th>\n",
       "      <td>1573142</td>\n",
       "      <td>21.0</td>\n",
       "      <td>255.0</td>\n",
       "      <td>68.0</td>\n",
       "      <td>3.0</td>\n",
       "      <td>475114.69</td>\n",
       "      <td>4.0</td>\n",
       "      <td>4.0</td>\n",
       "    </tr>\n",
       "    <tr>\n",
       "      <th>70608</th>\n",
       "      <td>5602139</td>\n",
       "      <td>21.0</td>\n",
       "      <td>254.0</td>\n",
       "      <td>59.5</td>\n",
       "      <td>3.0</td>\n",
       "      <td>157498.73</td>\n",
       "      <td>7.0</td>\n",
       "      <td>7.0</td>\n",
       "    </tr>\n",
       "  </tbody>\n",
       "</table>\n",
       "<p>70609 rows × 8 columns</p>\n",
       "</div>"
      ],
      "text/plain": [
       "       client_id  clnt_tenure_yr  clnt_tenure_mnth  clnt_age  num_accts  \\\n",
       "0         836976             6.0              73.0      60.5        2.0   \n",
       "1        2304905             7.0              94.0      58.0        2.0   \n",
       "2        1439522             5.0              64.0      32.0        2.0   \n",
       "3        1562045            16.0             198.0      49.0        2.0   \n",
       "4        5126305            12.0             145.0      33.0        2.0   \n",
       "...          ...             ...               ...       ...        ...   \n",
       "70604    7993686             4.0              56.0      38.5        3.0   \n",
       "70605    8981690            12.0             148.0      31.0        2.0   \n",
       "70606     333913            16.0             198.0      61.5        2.0   \n",
       "70607    1573142            21.0             255.0      68.0        3.0   \n",
       "70608    5602139            21.0             254.0      59.5        3.0   \n",
       "\n",
       "              bal  calls_6_mnth  logons_6_mnth  \n",
       "0        45105.30           6.0            9.0  \n",
       "1       110860.30           6.0            9.0  \n",
       "2        52467.79           6.0            9.0  \n",
       "3        67454.65           3.0            6.0  \n",
       "4       103671.75           0.0            3.0  \n",
       "...           ...           ...            ...  \n",
       "70604  1411062.68           5.0            5.0  \n",
       "70605   101867.07           6.0            6.0  \n",
       "70606    40745.00           3.0            3.0  \n",
       "70607   475114.69           4.0            4.0  \n",
       "70608   157498.73           7.0            7.0  \n",
       "\n",
       "[70609 rows x 8 columns]"
      ]
     },
     "execution_count": 20,
     "metadata": {},
     "output_type": "execute_result"
    }
   ],
   "source": [
    "df_clients.select_dtypes(\"number\")"
   ]
  },
  {
   "cell_type": "code",
   "execution_count": 21,
   "id": "ae00cb33-7627-484f-b721-05ac3a442652",
   "metadata": {},
   "outputs": [
    {
     "data": {
      "text/plain": [
       "client_id           70609\n",
       "bal                 70333\n",
       "clnt_tenure_mnth      482\n",
       "clnt_age              165\n",
       "clnt_tenure_yr         54\n",
       "logons_6_mnth           9\n",
       "num_accts               8\n",
       "calls_6_mnth            8\n",
       "dtype: int64"
      ]
     },
     "execution_count": 21,
     "metadata": {},
     "output_type": "execute_result"
    }
   ],
   "source": [
    "# Counting and sorting the unique values for each numerical column in descending order\n",
    "df_clients.select_dtypes(\"number\").nunique().sort_values(ascending=False)"
   ]
  },
  {
   "cell_type": "code",
   "execution_count": 22,
   "id": "8fa7e1de-0856-4d1e-a823-1a92a6d0c1a6",
   "metadata": {},
   "outputs": [],
   "source": [
    "# checking the numerical columns with less than 10 unique values\n",
    "# df_clients.calls_6_mnth.value_counts()\n",
    "# df_clients.num_accts.value_counts()\n",
    "# df_clients.logons_6_mnth.value_counts()\n",
    "\n",
    "# I will consider them categorical\n",
    "clients_categorical_from_numerical = df_clients.select_dtypes(\"number\").loc[:, df_clients.select_dtypes(\"number\").nunique() < 10]"
   ]
  },
  {
   "cell_type": "code",
   "execution_count": 23,
   "id": "e9cd5a9f-f0d2-4fb8-ada0-df6e382510e8",
   "metadata": {},
   "outputs": [],
   "source": [
    "# testing numerical/categorical only for df_clients data cause the other dataframes have only objects"
   ]
  },
  {
   "cell_type": "code",
   "execution_count": 24,
   "id": "a26e816d-cd44-4099-8fe3-dc4e751df13b",
   "metadata": {},
   "outputs": [
    {
     "data": {
      "text/html": [
       "<div>\n",
       "<style scoped>\n",
       "    .dataframe tbody tr th:only-of-type {\n",
       "        vertical-align: middle;\n",
       "    }\n",
       "\n",
       "    .dataframe tbody tr th {\n",
       "        vertical-align: top;\n",
       "    }\n",
       "\n",
       "    .dataframe thead th {\n",
       "        text-align: right;\n",
       "    }\n",
       "</style>\n",
       "<table border=\"1\" class=\"dataframe\">\n",
       "  <thead>\n",
       "    <tr style=\"text-align: right;\">\n",
       "      <th></th>\n",
       "      <th>client_id</th>\n",
       "      <th>clnt_tenure_yr</th>\n",
       "      <th>clnt_tenure_mnth</th>\n",
       "      <th>clnt_age</th>\n",
       "      <th>gendr</th>\n",
       "      <th>num_accts</th>\n",
       "      <th>bal</th>\n",
       "      <th>calls_6_mnth</th>\n",
       "      <th>logons_6_mnth</th>\n",
       "    </tr>\n",
       "  </thead>\n",
       "  <tbody>\n",
       "    <tr>\n",
       "      <th>0</th>\n",
       "      <td>836976</td>\n",
       "      <td>6.0</td>\n",
       "      <td>73.0</td>\n",
       "      <td>60.5</td>\n",
       "      <td>U</td>\n",
       "      <td>2.0</td>\n",
       "      <td>45105.30</td>\n",
       "      <td>6.0</td>\n",
       "      <td>9.0</td>\n",
       "    </tr>\n",
       "    <tr>\n",
       "      <th>1</th>\n",
       "      <td>2304905</td>\n",
       "      <td>7.0</td>\n",
       "      <td>94.0</td>\n",
       "      <td>58.0</td>\n",
       "      <td>U</td>\n",
       "      <td>2.0</td>\n",
       "      <td>110860.30</td>\n",
       "      <td>6.0</td>\n",
       "      <td>9.0</td>\n",
       "    </tr>\n",
       "    <tr>\n",
       "      <th>2</th>\n",
       "      <td>1439522</td>\n",
       "      <td>5.0</td>\n",
       "      <td>64.0</td>\n",
       "      <td>32.0</td>\n",
       "      <td>U</td>\n",
       "      <td>2.0</td>\n",
       "      <td>52467.79</td>\n",
       "      <td>6.0</td>\n",
       "      <td>9.0</td>\n",
       "    </tr>\n",
       "    <tr>\n",
       "      <th>3</th>\n",
       "      <td>1562045</td>\n",
       "      <td>16.0</td>\n",
       "      <td>198.0</td>\n",
       "      <td>49.0</td>\n",
       "      <td>M</td>\n",
       "      <td>2.0</td>\n",
       "      <td>67454.65</td>\n",
       "      <td>3.0</td>\n",
       "      <td>6.0</td>\n",
       "    </tr>\n",
       "    <tr>\n",
       "      <th>4</th>\n",
       "      <td>5126305</td>\n",
       "      <td>12.0</td>\n",
       "      <td>145.0</td>\n",
       "      <td>33.0</td>\n",
       "      <td>F</td>\n",
       "      <td>2.0</td>\n",
       "      <td>103671.75</td>\n",
       "      <td>0.0</td>\n",
       "      <td>3.0</td>\n",
       "    </tr>\n",
       "    <tr>\n",
       "      <th>...</th>\n",
       "      <td>...</td>\n",
       "      <td>...</td>\n",
       "      <td>...</td>\n",
       "      <td>...</td>\n",
       "      <td>...</td>\n",
       "      <td>...</td>\n",
       "      <td>...</td>\n",
       "      <td>...</td>\n",
       "      <td>...</td>\n",
       "    </tr>\n",
       "    <tr>\n",
       "      <th>70604</th>\n",
       "      <td>7993686</td>\n",
       "      <td>4.0</td>\n",
       "      <td>56.0</td>\n",
       "      <td>38.5</td>\n",
       "      <td>U</td>\n",
       "      <td>3.0</td>\n",
       "      <td>1411062.68</td>\n",
       "      <td>5.0</td>\n",
       "      <td>5.0</td>\n",
       "    </tr>\n",
       "    <tr>\n",
       "      <th>70605</th>\n",
       "      <td>8981690</td>\n",
       "      <td>12.0</td>\n",
       "      <td>148.0</td>\n",
       "      <td>31.0</td>\n",
       "      <td>M</td>\n",
       "      <td>2.0</td>\n",
       "      <td>101867.07</td>\n",
       "      <td>6.0</td>\n",
       "      <td>6.0</td>\n",
       "    </tr>\n",
       "    <tr>\n",
       "      <th>70606</th>\n",
       "      <td>333913</td>\n",
       "      <td>16.0</td>\n",
       "      <td>198.0</td>\n",
       "      <td>61.5</td>\n",
       "      <td>F</td>\n",
       "      <td>2.0</td>\n",
       "      <td>40745.00</td>\n",
       "      <td>3.0</td>\n",
       "      <td>3.0</td>\n",
       "    </tr>\n",
       "    <tr>\n",
       "      <th>70607</th>\n",
       "      <td>1573142</td>\n",
       "      <td>21.0</td>\n",
       "      <td>255.0</td>\n",
       "      <td>68.0</td>\n",
       "      <td>M</td>\n",
       "      <td>3.0</td>\n",
       "      <td>475114.69</td>\n",
       "      <td>4.0</td>\n",
       "      <td>4.0</td>\n",
       "    </tr>\n",
       "    <tr>\n",
       "      <th>70608</th>\n",
       "      <td>5602139</td>\n",
       "      <td>21.0</td>\n",
       "      <td>254.0</td>\n",
       "      <td>59.5</td>\n",
       "      <td>F</td>\n",
       "      <td>3.0</td>\n",
       "      <td>157498.73</td>\n",
       "      <td>7.0</td>\n",
       "      <td>7.0</td>\n",
       "    </tr>\n",
       "  </tbody>\n",
       "</table>\n",
       "<p>70609 rows × 9 columns</p>\n",
       "</div>"
      ],
      "text/plain": [
       "       client_id  clnt_tenure_yr  clnt_tenure_mnth  clnt_age gendr  num_accts  \\\n",
       "0         836976             6.0              73.0      60.5     U        2.0   \n",
       "1        2304905             7.0              94.0      58.0     U        2.0   \n",
       "2        1439522             5.0              64.0      32.0     U        2.0   \n",
       "3        1562045            16.0             198.0      49.0     M        2.0   \n",
       "4        5126305            12.0             145.0      33.0     F        2.0   \n",
       "...          ...             ...               ...       ...   ...        ...   \n",
       "70604    7993686             4.0              56.0      38.5     U        3.0   \n",
       "70605    8981690            12.0             148.0      31.0     M        2.0   \n",
       "70606     333913            16.0             198.0      61.5     F        2.0   \n",
       "70607    1573142            21.0             255.0      68.0     M        3.0   \n",
       "70608    5602139            21.0             254.0      59.5     F        3.0   \n",
       "\n",
       "              bal  calls_6_mnth  logons_6_mnth  \n",
       "0        45105.30           6.0            9.0  \n",
       "1       110860.30           6.0            9.0  \n",
       "2        52467.79           6.0            9.0  \n",
       "3        67454.65           3.0            6.0  \n",
       "4       103671.75           0.0            3.0  \n",
       "...           ...           ...            ...  \n",
       "70604  1411062.68           5.0            5.0  \n",
       "70605   101867.07           6.0            6.0  \n",
       "70606    40745.00           3.0            3.0  \n",
       "70607   475114.69           4.0            4.0  \n",
       "70608   157498.73           7.0            7.0  \n",
       "\n",
       "[70609 rows x 9 columns]"
      ]
     },
     "execution_count": 24,
     "metadata": {},
     "output_type": "execute_result"
    }
   ],
   "source": [
    "df_clients"
   ]
  },
  {
   "cell_type": "code",
   "execution_count": 25,
   "id": "4909693b-fdfa-47af-9c05-a997deacb138",
   "metadata": {},
   "outputs": [
    {
     "data": {
      "text/html": [
       "<div>\n",
       "<style scoped>\n",
       "    .dataframe tbody tr th:only-of-type {\n",
       "        vertical-align: middle;\n",
       "    }\n",
       "\n",
       "    .dataframe tbody tr th {\n",
       "        vertical-align: top;\n",
       "    }\n",
       "\n",
       "    .dataframe thead th {\n",
       "        text-align: right;\n",
       "    }\n",
       "</style>\n",
       "<table border=\"1\" class=\"dataframe\">\n",
       "  <thead>\n",
       "    <tr style=\"text-align: right;\">\n",
       "      <th></th>\n",
       "      <th>client_id</th>\n",
       "      <th>Variation</th>\n",
       "    </tr>\n",
       "  </thead>\n",
       "  <tbody>\n",
       "    <tr>\n",
       "      <th>0</th>\n",
       "      <td>9988021</td>\n",
       "      <td>Test</td>\n",
       "    </tr>\n",
       "    <tr>\n",
       "      <th>1</th>\n",
       "      <td>8320017</td>\n",
       "      <td>Test</td>\n",
       "    </tr>\n",
       "    <tr>\n",
       "      <th>2</th>\n",
       "      <td>4033851</td>\n",
       "      <td>Control</td>\n",
       "    </tr>\n",
       "    <tr>\n",
       "      <th>3</th>\n",
       "      <td>1982004</td>\n",
       "      <td>Test</td>\n",
       "    </tr>\n",
       "    <tr>\n",
       "      <th>4</th>\n",
       "      <td>9294070</td>\n",
       "      <td>Control</td>\n",
       "    </tr>\n",
       "    <tr>\n",
       "      <th>...</th>\n",
       "      <td>...</td>\n",
       "      <td>...</td>\n",
       "    </tr>\n",
       "    <tr>\n",
       "      <th>70604</th>\n",
       "      <td>2443347</td>\n",
       "      <td>NaN</td>\n",
       "    </tr>\n",
       "    <tr>\n",
       "      <th>70605</th>\n",
       "      <td>8788427</td>\n",
       "      <td>NaN</td>\n",
       "    </tr>\n",
       "    <tr>\n",
       "      <th>70606</th>\n",
       "      <td>266828</td>\n",
       "      <td>NaN</td>\n",
       "    </tr>\n",
       "    <tr>\n",
       "      <th>70607</th>\n",
       "      <td>1266421</td>\n",
       "      <td>NaN</td>\n",
       "    </tr>\n",
       "    <tr>\n",
       "      <th>70608</th>\n",
       "      <td>9895983</td>\n",
       "      <td>NaN</td>\n",
       "    </tr>\n",
       "  </tbody>\n",
       "</table>\n",
       "<p>70609 rows × 2 columns</p>\n",
       "</div>"
      ],
      "text/plain": [
       "       client_id Variation\n",
       "0        9988021      Test\n",
       "1        8320017      Test\n",
       "2        4033851   Control\n",
       "3        1982004      Test\n",
       "4        9294070   Control\n",
       "...          ...       ...\n",
       "70604    2443347       NaN\n",
       "70605    8788427       NaN\n",
       "70606     266828       NaN\n",
       "70607    1266421       NaN\n",
       "70608    9895983       NaN\n",
       "\n",
       "[70609 rows x 2 columns]"
      ]
     },
     "execution_count": 25,
     "metadata": {},
     "output_type": "execute_result"
    }
   ],
   "source": [
    "df_roster"
   ]
  },
  {
   "cell_type": "code",
   "execution_count": 26,
   "id": "9e3d6f6b-130f-43a2-b649-76381474fce9",
   "metadata": {},
   "outputs": [
    {
     "data": {
      "text/html": [
       "<div>\n",
       "<style scoped>\n",
       "    .dataframe tbody tr th:only-of-type {\n",
       "        vertical-align: middle;\n",
       "    }\n",
       "\n",
       "    .dataframe tbody tr th {\n",
       "        vertical-align: top;\n",
       "    }\n",
       "\n",
       "    .dataframe thead th {\n",
       "        text-align: right;\n",
       "    }\n",
       "</style>\n",
       "<table border=\"1\" class=\"dataframe\">\n",
       "  <thead>\n",
       "    <tr style=\"text-align: right;\">\n",
       "      <th></th>\n",
       "      <th>client_id</th>\n",
       "      <th>visitor_id</th>\n",
       "      <th>visit_id</th>\n",
       "      <th>process_step</th>\n",
       "      <th>date_time</th>\n",
       "    </tr>\n",
       "  </thead>\n",
       "  <tbody>\n",
       "    <tr>\n",
       "      <th>0</th>\n",
       "      <td>9988021</td>\n",
       "      <td>580560515_7732621733</td>\n",
       "      <td>781255054_21935453173_531117</td>\n",
       "      <td>step_3</td>\n",
       "      <td>2017-04-17 15:27:07</td>\n",
       "    </tr>\n",
       "    <tr>\n",
       "      <th>1</th>\n",
       "      <td>9988021</td>\n",
       "      <td>580560515_7732621733</td>\n",
       "      <td>781255054_21935453173_531117</td>\n",
       "      <td>step_2</td>\n",
       "      <td>2017-04-17 15:26:51</td>\n",
       "    </tr>\n",
       "    <tr>\n",
       "      <th>2</th>\n",
       "      <td>9988021</td>\n",
       "      <td>580560515_7732621733</td>\n",
       "      <td>781255054_21935453173_531117</td>\n",
       "      <td>step_3</td>\n",
       "      <td>2017-04-17 15:19:22</td>\n",
       "    </tr>\n",
       "    <tr>\n",
       "      <th>3</th>\n",
       "      <td>9988021</td>\n",
       "      <td>580560515_7732621733</td>\n",
       "      <td>781255054_21935453173_531117</td>\n",
       "      <td>step_2</td>\n",
       "      <td>2017-04-17 15:19:13</td>\n",
       "    </tr>\n",
       "    <tr>\n",
       "      <th>4</th>\n",
       "      <td>9988021</td>\n",
       "      <td>580560515_7732621733</td>\n",
       "      <td>781255054_21935453173_531117</td>\n",
       "      <td>step_3</td>\n",
       "      <td>2017-04-17 15:18:04</td>\n",
       "    </tr>\n",
       "    <tr>\n",
       "      <th>...</th>\n",
       "      <td>...</td>\n",
       "      <td>...</td>\n",
       "      <td>...</td>\n",
       "      <td>...</td>\n",
       "      <td>...</td>\n",
       "    </tr>\n",
       "    <tr>\n",
       "      <th>412259</th>\n",
       "      <td>9668240</td>\n",
       "      <td>388766751_9038881013</td>\n",
       "      <td>922267647_3096648104_968866</td>\n",
       "      <td>start</td>\n",
       "      <td>2017-05-24 18:46:10</td>\n",
       "    </tr>\n",
       "    <tr>\n",
       "      <th>412260</th>\n",
       "      <td>9668240</td>\n",
       "      <td>388766751_9038881013</td>\n",
       "      <td>922267647_3096648104_968866</td>\n",
       "      <td>start</td>\n",
       "      <td>2017-05-24 18:45:29</td>\n",
       "    </tr>\n",
       "    <tr>\n",
       "      <th>412261</th>\n",
       "      <td>9668240</td>\n",
       "      <td>388766751_9038881013</td>\n",
       "      <td>922267647_3096648104_968866</td>\n",
       "      <td>step_1</td>\n",
       "      <td>2017-05-24 18:44:51</td>\n",
       "    </tr>\n",
       "    <tr>\n",
       "      <th>412262</th>\n",
       "      <td>9668240</td>\n",
       "      <td>388766751_9038881013</td>\n",
       "      <td>922267647_3096648104_968866</td>\n",
       "      <td>start</td>\n",
       "      <td>2017-05-24 18:44:34</td>\n",
       "    </tr>\n",
       "    <tr>\n",
       "      <th>412263</th>\n",
       "      <td>674799</td>\n",
       "      <td>947159805_81558194550</td>\n",
       "      <td>86152093_47511127657_716022</td>\n",
       "      <td>start</td>\n",
       "      <td>2017-06-03 12:17:09</td>\n",
       "    </tr>\n",
       "  </tbody>\n",
       "</table>\n",
       "<p>755405 rows × 5 columns</p>\n",
       "</div>"
      ],
      "text/plain": [
       "        client_id             visitor_id                      visit_id  \\\n",
       "0         9988021   580560515_7732621733  781255054_21935453173_531117   \n",
       "1         9988021   580560515_7732621733  781255054_21935453173_531117   \n",
       "2         9988021   580560515_7732621733  781255054_21935453173_531117   \n",
       "3         9988021   580560515_7732621733  781255054_21935453173_531117   \n",
       "4         9988021   580560515_7732621733  781255054_21935453173_531117   \n",
       "...           ...                    ...                           ...   \n",
       "412259    9668240   388766751_9038881013   922267647_3096648104_968866   \n",
       "412260    9668240   388766751_9038881013   922267647_3096648104_968866   \n",
       "412261    9668240   388766751_9038881013   922267647_3096648104_968866   \n",
       "412262    9668240   388766751_9038881013   922267647_3096648104_968866   \n",
       "412263     674799  947159805_81558194550   86152093_47511127657_716022   \n",
       "\n",
       "       process_step            date_time  \n",
       "0            step_3  2017-04-17 15:27:07  \n",
       "1            step_2  2017-04-17 15:26:51  \n",
       "2            step_3  2017-04-17 15:19:22  \n",
       "3            step_2  2017-04-17 15:19:13  \n",
       "4            step_3  2017-04-17 15:18:04  \n",
       "...             ...                  ...  \n",
       "412259        start  2017-05-24 18:46:10  \n",
       "412260        start  2017-05-24 18:45:29  \n",
       "412261       step_1  2017-05-24 18:44:51  \n",
       "412262        start  2017-05-24 18:44:34  \n",
       "412263        start  2017-06-03 12:17:09  \n",
       "\n",
       "[755405 rows x 5 columns]"
      ]
     },
     "execution_count": 26,
     "metadata": {},
     "output_type": "execute_result"
    }
   ],
   "source": [
    "df_trace"
   ]
  },
  {
   "cell_type": "markdown",
   "id": "de37db9a-0c70-4110-8a6d-8606faf02fa6",
   "metadata": {},
   "source": [
    "# Cleaning"
   ]
  },
  {
   "cell_type": "code",
   "execution_count": 27,
   "id": "ffb45654-54ef-4692-855f-be2773e3dcd0",
   "metadata": {},
   "outputs": [],
   "source": [
    "def cleaning(df_clients, df_trace, df_roster):\n",
    "    '''\n",
    "    Function for data cleaning, addressing issues identified during initial exploration.\n",
    "    Takes the three dataframes as input and returns three cleaned dataframe. Additionally, provides a dataframe \n",
    "    from df_clients with rows containing only client_id values, if needed for further analysis.\n",
    "    '''\n",
    "\n",
    "    ## Dropping null values\n",
    "\n",
    "    # Making a dataframe with the rows that only have client_id, and will be deleted, in case I need it in the future\n",
    "    df_clients_with_na =  df_clients[df_clients.isna().sum(axis=1) > 7]\n",
    "    # Making a new dataframe with deleted rows that have as values only the client_id\n",
    "    df_clients = df_clients.dropna(thresh = 8)\n",
    "\n",
    "\n",
    "    ## Dropping duplicated values\n",
    "    df_trace = df_trace.drop_duplicates()\n",
    "    \n",
    "    \n",
    "    ## Filling null values\n",
    "\n",
    "    # Replacing the null values at df_roster with \"Undefined\"\n",
    "    df_roster[\"Variation\"] = df_roster[\"Variation\"].apply(str).replace('nan','Undefined')\n",
    "\n",
    "\n",
    "    ## Formatting\n",
    "\n",
    "    # Formatting df_roster columns as lowercase, to match all the other colomn names\n",
    "    df_roster.columns = df_roster.columns.map(str.lower)\n",
    "    # \"client_id\" to be casted as string, no intention to to perform mathematical operations on it\n",
    "    df_roster['client_id'] = df_roster.client_id.apply(str)\n",
    "    \n",
    "    # \"client_id\" to be casted as string, no intention to to perform mathematical operations on it\n",
    "    df_clients['client_id'] = df_clients.client_id.apply(str)\n",
    "    # casting the columns that I have tested are not real float number to integers\n",
    "    df_clients[[\"clnt_tenure_yr\",\"clnt_tenure_mnth\",\"num_accts\", \"calls_6_mnth\",\n",
    "                \"logons_6_mnth\"]] = df_clients[[\"clnt_tenure_yr\",\"clnt_tenure_mnth\",\"num_accts\", \"calls_6_mnth\",\"logons_6_mnth\"]].map(int)\n",
    "\n",
    "    # \"client_id\" to be casted as string, no intention to to perform mathematical operations on it\n",
    "    df_trace['client_id'] = df_trace.client_id.apply(str)\n",
    "    # casting date_time as datetime pandas object\n",
    "    df_trace['date_time'] = pd.to_datetime(df_trace['date_time'],format='%Y-%m-%d %H:%M:%S')\n",
    "    \n",
    "\n",
    "    return df_clients, df_trace, df_roster, df_clients_with_na"
   ]
  },
  {
   "cell_type": "code",
   "execution_count": 28,
   "id": "29b7a5cc-4129-48d2-ba4e-348393b9fdeb",
   "metadata": {},
   "outputs": [
    {
     "name": "stderr",
     "output_type": "stream",
     "text": [
      "/var/folders/yt/xx6_vt592x9cgxz0trzlfxp00000gn/T/ipykernel_53499/3111831953.py:34: SettingWithCopyWarning: \n",
      "A value is trying to be set on a copy of a slice from a DataFrame.\n",
      "Try using .loc[row_indexer,col_indexer] = value instead\n",
      "\n",
      "See the caveats in the documentation: https://pandas.pydata.org/pandas-docs/stable/user_guide/indexing.html#returning-a-view-versus-a-copy\n",
      "  df_clients['client_id'] = df_clients.client_id.apply(str)\n",
      "/var/folders/yt/xx6_vt592x9cgxz0trzlfxp00000gn/T/ipykernel_53499/3111831953.py:36: SettingWithCopyWarning: \n",
      "A value is trying to be set on a copy of a slice from a DataFrame.\n",
      "Try using .loc[row_indexer,col_indexer] = value instead\n",
      "\n",
      "See the caveats in the documentation: https://pandas.pydata.org/pandas-docs/stable/user_guide/indexing.html#returning-a-view-versus-a-copy\n",
      "  df_clients[[\"clnt_tenure_yr\",\"clnt_tenure_mnth\",\"num_accts\", \"calls_6_mnth\",\n",
      "/var/folders/yt/xx6_vt592x9cgxz0trzlfxp00000gn/T/ipykernel_53499/3111831953.py:40: SettingWithCopyWarning: \n",
      "A value is trying to be set on a copy of a slice from a DataFrame.\n",
      "Try using .loc[row_indexer,col_indexer] = value instead\n",
      "\n",
      "See the caveats in the documentation: https://pandas.pydata.org/pandas-docs/stable/user_guide/indexing.html#returning-a-view-versus-a-copy\n",
      "  df_trace['client_id'] = df_trace.client_id.apply(str)\n",
      "/var/folders/yt/xx6_vt592x9cgxz0trzlfxp00000gn/T/ipykernel_53499/3111831953.py:42: SettingWithCopyWarning: \n",
      "A value is trying to be set on a copy of a slice from a DataFrame.\n",
      "Try using .loc[row_indexer,col_indexer] = value instead\n",
      "\n",
      "See the caveats in the documentation: https://pandas.pydata.org/pandas-docs/stable/user_guide/indexing.html#returning-a-view-versus-a-copy\n",
      "  df_trace['date_time'] = pd.to_datetime(df_trace['date_time'],format='%Y-%m-%d %H:%M:%S')\n"
     ]
    }
   ],
   "source": [
    "df_clients, df_trace, df_roster, df_clients_with_na = cleaning(df_clients, df_trace, df_roster)"
   ]
  },
  {
   "cell_type": "markdown",
   "id": "f1560267-8652-4c44-acba-cad8e38c4fd9",
   "metadata": {},
   "source": [
    "# Initial exploration - Client's profile"
   ]
  },
  {
   "cell_type": "code",
   "execution_count": 29,
   "id": "3626ca5c-7d96-4417-bd93-a84bbdc70837",
   "metadata": {},
   "outputs": [],
   "source": [
    "# According to the inital exploration, I will consider the numerical columns as numerical (for an analysis that will follow)\n",
    "# and the others as categorical\n",
    "\n",
    "# Creating a dataframe with categorical values\n",
    "df_clients_ctgr = df_clients.select_dtypes(\"object\")\n",
    "# And creating a dataframe with numerical values\n",
    "df_clients_nmr = df_clients.select_dtypes(\"number\")"
   ]
  },
  {
   "cell_type": "code",
   "execution_count": 30,
   "id": "59f51832-a88f-4931-b95d-d1a81c84bfc4",
   "metadata": {},
   "outputs": [],
   "source": [
    "# Looking at main characteristics of clients"
   ]
  },
  {
   "cell_type": "markdown",
   "id": "de6f9d7f-7ee4-48e1-8e3e-40a052f40d41",
   "metadata": {},
   "source": [
    "#### Univariate analysis"
   ]
  },
  {
   "cell_type": "markdown",
   "id": "3100a118-53b2-43a7-8dc8-e15875e2694f",
   "metadata": {},
   "source": [
    "#### Clients' age"
   ]
  },
  {
   "cell_type": "code",
   "execution_count": 31,
   "id": "463b05ec-e282-4f28-8d0d-42131d040cf7",
   "metadata": {},
   "outputs": [
    {
     "data": {
      "text/plain": [
       "count    70594.000000\n",
       "mean        46.442240\n",
       "std         15.591273\n",
       "min         13.500000\n",
       "25%         32.500000\n",
       "50%         47.000000\n",
       "75%         59.000000\n",
       "max         96.000000\n",
       "Name: clnt_age, dtype: float64"
      ]
     },
     "execution_count": 31,
     "metadata": {},
     "output_type": "execute_result"
    }
   ],
   "source": [
    "df_clients['clnt_age'].describe()"
   ]
  },
  {
   "cell_type": "code",
   "execution_count": 32,
   "id": "22d0ae01-4ea8-480d-9258-bf8738d52340",
   "metadata": {},
   "outputs": [
    {
     "name": "stdout",
     "output_type": "stream",
     "text": [
      "243.0877811418307\n",
      "58.5\n",
      "82.5\n"
     ]
    }
   ],
   "source": [
    "print(df_clients['clnt_age'].var())\n",
    "print(df_clients['clnt_age'].mode()[0])\n",
    "print(df_clients['clnt_age'].max() - df_clients['clnt_age'].min()) # range"
   ]
  },
  {
   "cell_type": "code",
   "execution_count": 33,
   "id": "dffcf2bb-4baa-477d-840d-dfe08e8bfb39",
   "metadata": {},
   "outputs": [
    {
     "data": {
      "text/plain": [
       "<Axes: xlabel='clnt_age', ylabel='Count'>"
      ]
     },
     "execution_count": 33,
     "metadata": {},
     "output_type": "execute_result"
    },
    {
     "data": {
      "image/png": "[encoded data removed]",
      "text/plain": [
       "<Figure size 640x480 with 1 Axes>"
      ]
     },
     "metadata": {},
     "output_type": "display_data"
    }
   ],
   "source": [
    "sns.histplot(df_clients['clnt_age'], kde=True, bins=20, color='limegreen')"
   ]
  },
  {
   "cell_type": "code",
   "execution_count": 34,
   "id": "affae8f0-7357-4209-8ccd-b001c2aa6820",
   "metadata": {},
   "outputs": [
    {
     "data": {
      "text/plain": [
       "<Axes: ylabel='clnt_age'>"
      ]
     },
     "execution_count": 34,
     "metadata": {},
     "output_type": "execute_result"
    },
    {
     "data": {
      "image/png": "[encoded data removed]",
      "text/plain": [
       "<Figure size 640x480 with 1 Axes>"
      ]
     },
     "metadata": {},
     "output_type": "display_data"
    }
   ],
   "source": [
    "sns.boxplot(data=df_clients['clnt_age'], color='limegreen')"
   ]
  },
  {
   "cell_type": "markdown",
   "id": "d37033b8-2329-4ee6-b70f-fca6ec9a2cc5",
   "metadata": {},
   "source": [
    "We observe from the boxplot that the clients' age doesn't have outliers."
   ]
  },
  {
   "cell_type": "code",
   "execution_count": 35,
   "id": "d84e644d-71df-45e4-baad-9e50b7c33b2d",
   "metadata": {},
   "outputs": [
    {
     "name": "stderr",
     "output_type": "stream",
     "text": [
      "/var/folders/yt/xx6_vt592x9cgxz0trzlfxp00000gn/T/ipykernel_53499/2435041151.py:6: SettingWithCopyWarning: \n",
      "A value is trying to be set on a copy of a slice from a DataFrame.\n",
      "Try using .loc[row_indexer,col_indexer] = value instead\n",
      "\n",
      "See the caveats in the documentation: https://pandas.pydata.org/pandas-docs/stable/user_guide/indexing.html#returning-a-view-versus-a-copy\n",
      "  df_clients['clnt_age_category'] = pd.cut(df_clients['clnt_age'], bins=bins, labels=labels, include_lowest=True)\n"
     ]
    },
    {
     "data": {
      "image/png": "[encoded data removed]",
      "text/plain": [
       "<Figure size 640x480 with 1 Axes>"
      ]
     },
     "metadata": {},
     "output_type": "display_data"
    }
   ],
   "source": [
    "# I want to check the above with some age brackets\n",
    "bins = [0, 18.0, 25.0, 35.0, 45.0, 55.0, 65.0 , 75.0, 85.0, df_clients['clnt_age'].max()]\n",
    "labels = ['Under 18 year', '18-24 years', '25-34 years', '35-44 years', '45-54 years', \n",
    "          '55-64 years', '65-74 years', '75-84 years', '85 years and older']\n",
    "\n",
    "df_clients['clnt_age_category'] = pd.cut(df_clients['clnt_age'], bins=bins, labels=labels, include_lowest=True)\n",
    "\n",
    "\n",
    "# Making a seaborn countplot\n",
    "sns.countplot(data=df_clients, x='clnt_age_category', palette='Set3', hue='clnt_age_category', legend=False)\n",
    "plt.xticks(rotation=45, ha='right')\n",
    "plt.show()"
   ]
  },
  {
   "cell_type": "markdown",
   "id": "13464d90-0aa5-4b0c-9c8f-7dc2ae7278d0",
   "metadata": {},
   "source": [
    "It's notable that the clients predominantly fall into two age groups: 25-34 years and 45-64 years. Moreover, the interquartile range (IQR) reinforces this observation, spanning from 32 to 59 years, indicating that the majority of clients are concentrated within this age range."
   ]
  },
  {
   "cell_type": "markdown",
   "id": "69e74717-eddb-42bf-8da9-c9bf9dd540c4",
   "metadata": {},
   "source": [
    "#### Clients' tenure years"
   ]
  },
  {
   "cell_type": "code",
   "execution_count": 36,
   "id": "2dcbe29b-90d3-4d1c-951a-bb1adbbc3304",
   "metadata": {},
   "outputs": [
    {
     "data": {
      "text/plain": [
       "count    70595.000000\n",
       "mean        12.052950\n",
       "std          6.871819\n",
       "min          2.000000\n",
       "25%          6.000000\n",
       "50%         11.000000\n",
       "75%         16.000000\n",
       "max         62.000000\n",
       "Name: clnt_tenure_yr, dtype: float64"
      ]
     },
     "execution_count": 36,
     "metadata": {},
     "output_type": "execute_result"
    }
   ],
   "source": [
    "df_clients['clnt_tenure_yr'].describe()"
   ]
  },
  {
   "cell_type": "code",
   "execution_count": 37,
   "id": "b02a6262-67b3-4d9a-9a97-cf09592e3603",
   "metadata": {},
   "outputs": [
    {
     "name": "stdout",
     "output_type": "stream",
     "text": [
      "47.221889582372256\n",
      "6\n",
      "48.5\n"
     ]
    }
   ],
   "source": [
    "print(df_clients['clnt_tenure_yr'].var())\n",
    "print(df_clients['clnt_tenure_yr'].mode()[0])\n",
    "print(df_clients['clnt_tenure_yr'].max() - df_clients['clnt_age'].min()) # range"
   ]
  },
  {
   "cell_type": "code",
   "execution_count": 38,
   "id": "1e38b94b-e054-440b-9e48-149e6644eca8",
   "metadata": {},
   "outputs": [
    {
     "data": {
      "text/plain": [
       "<Axes: xlabel='clnt_tenure_yr', ylabel='Count'>"
      ]
     },
     "execution_count": 38,
     "metadata": {},
     "output_type": "execute_result"
    },
    {
     "data": {
      "image/png": "[encoded data removed]",
      "text/plain": [
       "<Figure size 640x480 with 1 Axes>"
      ]
     },
     "metadata": {},
     "output_type": "display_data"
    }
   ],
   "source": [
    "sns.histplot(df_clients['clnt_tenure_yr'], kde=True, bins=30, color='limegreen')"
   ]
  },
  {
   "cell_type": "code",
   "execution_count": 39,
   "id": "8045910b-aa7e-45e9-8996-b3e89633383a",
   "metadata": {},
   "outputs": [
    {
     "data": {
      "text/plain": [
       "<Axes: ylabel='clnt_tenure_yr'>"
      ]
     },
     "execution_count": 39,
     "metadata": {},
     "output_type": "execute_result"
    },
    {
     "data": {
      "image/png": "[encoded data removed]",
      "text/plain": [
       "<Figure size 640x480 with 1 Axes>"
      ]
     },
     "metadata": {},
     "output_type": "display_data"
    }
   ],
   "source": [
    "sns.boxplot(data=df_clients['clnt_tenure_yr'], color='limegreen')"
   ]
  },
  {
   "cell_type": "markdown",
   "id": "db408402-17c7-42f2-816c-3f5c60b4bb01",
   "metadata": {},
   "source": [
    "The distribution of client tenure years is right skewed, and appears to have outliers with higher values. Although outliers are present, in the analysis they will be considered normal, since in the context of an investment management company there can be as long-term clients. The majority of clients have tenures ranging from approximately 6 to 16 years, as indicated by the interquartile range (IQR)."
   ]
  },
  {
   "cell_type": "markdown",
   "id": "d59fbe31-833c-4962-9db5-fa2cbde88bf6",
   "metadata": {},
   "source": [
    "#### Client's gender"
   ]
  },
  {
   "cell_type": "code",
   "execution_count": 40,
   "id": "83005b31-6ac9-4066-a962-2d49a573275e",
   "metadata": {},
   "outputs": [
    {
     "data": {
      "text/plain": [
       "gendr\n",
       "U    24122\n",
       "M    23724\n",
       "F    22746\n",
       "X        3\n",
       "Name: count, dtype: int64"
      ]
     },
     "execution_count": 40,
     "metadata": {},
     "output_type": "execute_result"
    }
   ],
   "source": [
    "df_clients.gendr.value_counts()"
   ]
  },
  {
   "cell_type": "code",
   "execution_count": 41,
   "id": "5679a1f2-f0cf-427e-90ff-3283308d7f60",
   "metadata": {},
   "outputs": [
    {
     "data": {
      "text/plain": [
       "<Axes: xlabel='gendr', ylabel='count'>"
      ]
     },
     "execution_count": 41,
     "metadata": {},
     "output_type": "execute_result"
    },
    {
     "data": {
      "image/png": "[encoded data removed]",
      "text/plain": [
       "<Figure size 640x480 with 1 Axes>"
      ]
     },
     "metadata": {},
     "output_type": "display_data"
    }
   ],
   "source": [
    "sns.countplot(data=df_clients, x='gendr', palette='Set3', hue='gendr', legend=False)"
   ]
  },
  {
   "cell_type": "markdown",
   "id": "0b164043-a5ab-40c0-ae0d-a640c6f851fa",
   "metadata": {},
   "source": [
    "Based on the available data, excluding the unknown gender entries (including \"U\" and \"X\"), there appears to be a relatively balanced distribution between male and female clients."
   ]
  },
  {
   "cell_type": "markdown",
   "id": "9c47cedf-15ff-4a90-ad5c-94e7abe53396",
   "metadata": {},
   "source": [
    "#### Client's account balance"
   ]
  },
  {
   "cell_type": "code",
   "execution_count": 42,
   "id": "41b1c511-4e10-4e08-97da-db7a4ac3e7db",
   "metadata": {},
   "outputs": [
    {
     "data": {
      "text/plain": [
       "count        70,595\n",
       "mean        147,445\n",
       "std         301,509\n",
       "min          13,789\n",
       "25%          37,347\n",
       "50%          63,333\n",
       "75%         137,545\n",
       "max      16,320,040\n",
       "Name: bal, dtype: object"
      ]
     },
     "execution_count": 42,
     "metadata": {},
     "output_type": "execute_result"
    }
   ],
   "source": [
    "df_clients.bal.describe().apply(lambda x: f\"{x:,.0f}\")"
   ]
  },
  {
   "cell_type": "code",
   "execution_count": 43,
   "id": "eb811890-6186-4cf0-95ea-8a6f903a82d9",
   "metadata": {},
   "outputs": [
    {
     "data": {
      "text/plain": [
       "Index(['client_id', 'clnt_tenure_yr', 'clnt_tenure_mnth', 'clnt_age', 'gendr',\n",
       "       'num_accts', 'bal', 'calls_6_mnth', 'logons_6_mnth',\n",
       "       'clnt_age_category'],\n",
       "      dtype='object')"
      ]
     },
     "execution_count": 43,
     "metadata": {},
     "output_type": "execute_result"
    }
   ],
   "source": [
    "df_clients.columns"
   ]
  },
  {
   "cell_type": "markdown",
   "id": "c3e70229-a18c-44bc-a341-7b23edd76a10",
   "metadata": {},
   "source": [
    "#### Interaction with company via call/ platform visit"
   ]
  },
  {
   "cell_type": "code",
   "execution_count": 44,
   "id": "8f1d97b1-4468-4006-b5ce-7713b7ca1134",
   "metadata": {},
   "outputs": [
    {
     "data": {
      "text/plain": [
       "<Axes: xlabel='calls_6_mnth', ylabel='count'>"
      ]
     },
     "execution_count": 44,
     "metadata": {},
     "output_type": "execute_result"
    },
    {
     "data": {
      "image/png": "[encoded data removed]",
      "text/plain": [
       "<Figure size 640x480 with 1 Axes>"
      ]
     },
     "metadata": {},
     "output_type": "display_data"
    }
   ],
   "source": [
    "sns.countplot(data=df_clients, x='calls_6_mnth', palette='Set3', hue='calls_6_mnth', legend=False)"
   ]
  },
  {
   "cell_type": "code",
   "execution_count": 45,
   "id": "b91374c4-ca8d-4383-8cbf-b515d90801c2",
   "metadata": {},
   "outputs": [
    {
     "data": {
      "text/plain": [
       "<Axes: xlabel='logons_6_mnth', ylabel='count'>"
      ]
     },
     "execution_count": 45,
     "metadata": {},
     "output_type": "execute_result"
    },
    {
     "data": {
      "image/png": "[encoded data removed]",
      "text/plain": [
       "<Figure size 640x480 with 1 Axes>"
      ]
     },
     "metadata": {},
     "output_type": "display_data"
    }
   ],
   "source": [
    "sns.countplot(data=df_clients, x='logons_6_mnth', palette='Set3', hue='logons_6_mnth', legend=False)"
   ]
  },
  {
   "cell_type": "code",
   "execution_count": 46,
   "id": "b8791935-7984-4d04-a126-88a612a5627e",
   "metadata": {},
   "outputs": [
    {
     "data": {
      "text/plain": [
       "logons_6_mnth\n",
       "9    17.494157\n",
       "3    14.509526\n",
       "4    14.476946\n",
       "7    14.013740\n",
       "5    13.108577\n",
       "6    11.159431\n",
       "8     6.813514\n",
       "2     4.262342\n",
       "1     4.161768\n",
       "Name: proportion, dtype: float64"
      ]
     },
     "execution_count": 46,
     "metadata": {},
     "output_type": "execute_result"
    }
   ],
   "source": [
    "df_clients.logons_6_mnth.value_counts(normalize=True)*100"
   ]
  },
  {
   "cell_type": "code",
   "execution_count": 47,
   "id": "1416b982-8c46-4696-8085-b5659dd0febb",
   "metadata": {},
   "outputs": [
    {
     "data": {
      "text/plain": [
       "count    70595.000000\n",
       "mean         5.566740\n",
       "std          2.353286\n",
       "min          1.000000\n",
       "25%          4.000000\n",
       "50%          5.000000\n",
       "75%          7.000000\n",
       "max          9.000000\n",
       "Name: logons_6_mnth, dtype: float64"
      ]
     },
     "execution_count": 47,
     "metadata": {},
     "output_type": "execute_result"
    }
   ],
   "source": [
    "df_clients.logons_6_mnth.describe()"
   ]
  },
  {
   "cell_type": "markdown",
   "id": "87496513-560f-4cc0-add3-aa94f4cf1ca6",
   "metadata": {},
   "source": [
    "The vast majority of the clients had some interaction with the company via call or platform visit the last 6 months."
   ]
  },
  {
   "cell_type": "markdown",
   "id": "f972cfeb-37f9-4819-bd51-e23197876e2b",
   "metadata": {},
   "source": [
    "#### Bivarate analysis"
   ]
  },
  {
   "cell_type": "code",
   "execution_count": 48,
   "id": "91007ceb-65da-4028-8853-046a1e5af179",
   "metadata": {},
   "outputs": [],
   "source": [
    "# Numerical variables, correlation heatmap"
   ]
  },
  {
   "cell_type": "code",
   "execution_count": 49,
   "id": "b5b94098-32b7-4667-be59-e1ac304ec84e",
   "metadata": {},
   "outputs": [
    {
     "data": {
      "image/png": "[encoded data removed]",
      "text/plain": [
       "<Figure size 600x400 with 2 Axes>"
      ]
     },
     "metadata": {},
     "output_type": "display_data"
    }
   ],
   "source": [
    "correlation_matrix = df_clients_nmr.corr()\n",
    "\n",
    "# Setting up the matplotlib figure with an appropriate size\n",
    "plt.figure(figsize=(6, 4))\n",
    "\n",
    "# Drawing the heatmap for the numerical columns\n",
    "sns.heatmap(correlation_matrix, annot=True, cmap=\"coolwarm\")\n",
    "plt.title(\"Correlation Heatmap for Numerical Variables\")\n",
    "plt.show()"
   ]
  },
  {
   "cell_type": "markdown",
   "id": "1feb3b76-37fb-4587-9909-c3db8367b005",
   "metadata": {},
   "source": [
    "With the Pearson correlation analysis, it appears that the most notable linear relationship exists between the number of logins to the site and the number of calls made by the customer within the last 6 months. "
   ]
  },
  {
   "cell_type": "code",
   "execution_count": 50,
   "id": "88d24bde-e93c-4adc-b1a9-9eb3f52a2b58",
   "metadata": {},
   "outputs": [
    {
     "data": {
      "image/png": "[encoded data removed]",
      "text/plain": [
       "<Figure size 600x400 with 2 Axes>"
      ]
     },
     "metadata": {},
     "output_type": "display_data"
    }
   ],
   "source": [
    "correlation_matrix_s = df_clients_nmr.corr(method='spearman')\n",
    "\n",
    "# Setting up the matplotlib figure with an appropriate size\n",
    "plt.figure(figsize=(6, 4))\n",
    "\n",
    "# Drawing the heatmap for the numerical columns\n",
    "sns.heatmap(correlation_matrix_s, annot=True, cmap=\"coolwarm\")\n",
    "plt.title(\"Correlation Heatmap for Numerical Variables\")\n",
    "plt.show()"
   ]
  },
  {
   "cell_type": "markdown",
   "id": "ae741546-2b4d-42a3-8100-83b8523dca25",
   "metadata": {},
   "source": [
    "The Spearman correlation analysis similarly indicates that the strongest association is observed between the number of logins and the number of calls made by customers in the last 6 months, and doesn't reveal any other strong correlation."
   ]
  }
 ],
 "metadata": {
  "kernelspec": {
   "display_name": "project_2",
   "language": "python",
   "name": "project_2"
  },
  "language_info": {
   "codemirror_mode": {
    "name": "ipython",
    "version": 3
   },
   "file_extension": ".py",
   "mimetype": "text/x-python",
   "name": "python",
   "nbconvert_exporter": "python",
   "pygments_lexer": "ipython3",
   "version": "3.11.8"
  }
 },
 "nbformat": 4,
 "nbformat_minor": 5
}
